{
  "nbformat": 4,
  "nbformat_minor": 0,
  "metadata": {
    "kernelspec": {
      "display_name": "Python 3",
      "language": "python",
      "name": "python3"
    },
    "language_info": {
      "codemirror_mode": {
        "name": "ipython",
        "version": 3
      },
      "file_extension": ".py",
      "mimetype": "text/x-python",
      "name": "python",
      "nbconvert_exporter": "python",
      "pygments_lexer": "ipython3",
      "version": "3.7.7"
    },
    "colab": {
      "name": "Dasar_(10).ipynb",
      "provenance": [],
      "collapsed_sections": []
    }
  },
  "cells": [
    {
      "cell_type": "markdown",
      "metadata": {
        "id": "Kn2L7gz1Cjak",
        "colab_type": "text"
      },
      "source": [
        "<h2>Quiz 1 : Penggabungan Data</h2>\n",
        "\n",
        "- Sebutkan perbedaan antara full outer join, inner join, dan left join"
      ]
    },
    {
      "cell_type": "markdown",
      "metadata": {
        "id": "lz5KBMyXCjau",
        "colab_type": "text"
      },
      "source": [
        "Jawaban :\n",
        "\n",
        "- Full outer join mengambil data selain yang beririsan satu sama lain dan yang tidak, atau dapat dibilang union.\n",
        "\n",
        "- Inner join mengambil data yang beririsan satu sama lain saja.\n",
        "\n",
        "- left join mengambil semua data milik data pertama, yang beririsan dengan baris kedua atau yang tidak. \n"
      ]
    },
    {
      "cell_type": "markdown",
      "metadata": {
        "id": "H8k-jVewCjax",
        "colab_type": "text"
      },
      "source": [
        "<h2>Quiz 2 : Penggabungan Data</h2>\n",
        "\n",
        "Pada quiz no 2 ini gunakan data 'names1881.csv' dan 'names1981.csv', data ini berisi nama bayi yang lahir pada tahun 1881 atau 1981 di Amerika.\n",
        "\n",
        "- Baca data tersebut dengan memberikan nama column 'Name', 'Gender', 'Count'.\n",
        "- Tunjukan jumlah dimensi dari data 'names1881.csv' dan 'names1981.csv'\n",
        "- Gabungkan kedua data tersebut berdasarkan sumbu baris\n",
        "- Tunjukan jumlah dimensi dari data setelah di gabungkan."
      ]
    },
    {
      "cell_type": "code",
      "metadata": {
        "id": "nThN7zO2Cjaz",
        "colab_type": "code",
        "colab": {
          "base_uri": "https://localhost:8080/",
          "height": 443
        },
        "outputId": "9307c2ec-8505-47fc-ec2e-e47814fb6e48"
      },
      "source": [
        "import pandas as pd\n",
        "# read data\n",
        "df1 = pd.read_csv('names1881.csv',names = ['Name', 'Gender', 'Count'])\n",
        "df2 = pd.read_csv('names1981.csv', names = ['Name', 'Gender', 'Count'])\n",
        "\n",
        "# periksa dimensi dari kedua data\n",
        "print(\"Jumlah Dimensi data 'names1881.csv' :\")\n",
        "print(df1.shape)\n",
        "\n",
        "# gabungkan data\n",
        "print(\"Jumlah Baris data 'names1981.csv' :\")\n",
        "df = len(df2.index)\n",
        "print(df)\n",
        "\n",
        "# periksa dimensi data hasil gabungan\n",
        "print(\"Jumlah dimensi data setelah penggabungan : \")\n",
        "gabung=pd.merge(df1, df2, how='outer')\n",
        "print(gabung.shape)\n",
        "gabung[0][Name]"
      ],
      "execution_count": null,
      "outputs": [
        {
          "output_type": "error",
          "ename": "FileNotFoundError",
          "evalue": "ignored",
          "traceback": [
            "\u001b[0;31m---------------------------------------------------------------------------\u001b[0m",
            "\u001b[0;31mFileNotFoundError\u001b[0m                         Traceback (most recent call last)",
            "\u001b[0;32m<ipython-input-1-0a78b9c8abde>\u001b[0m in \u001b[0;36m<module>\u001b[0;34m()\u001b[0m\n\u001b[1;32m      1\u001b[0m \u001b[0;32mimport\u001b[0m \u001b[0mpandas\u001b[0m \u001b[0;32mas\u001b[0m \u001b[0mpd\u001b[0m\u001b[0;34m\u001b[0m\u001b[0;34m\u001b[0m\u001b[0m\n\u001b[1;32m      2\u001b[0m \u001b[0;31m# read data\u001b[0m\u001b[0;34m\u001b[0m\u001b[0;34m\u001b[0m\u001b[0;34m\u001b[0m\u001b[0m\n\u001b[0;32m----> 3\u001b[0;31m \u001b[0mdf1\u001b[0m \u001b[0;34m=\u001b[0m \u001b[0mpd\u001b[0m\u001b[0;34m.\u001b[0m\u001b[0mread_csv\u001b[0m\u001b[0;34m(\u001b[0m\u001b[0;34m'names1881.csv'\u001b[0m\u001b[0;34m,\u001b[0m\u001b[0mnames\u001b[0m \u001b[0;34m=\u001b[0m \u001b[0;34m[\u001b[0m\u001b[0;34m'Name'\u001b[0m\u001b[0;34m,\u001b[0m \u001b[0;34m'Gender'\u001b[0m\u001b[0;34m,\u001b[0m \u001b[0;34m'Count'\u001b[0m\u001b[0;34m]\u001b[0m\u001b[0;34m)\u001b[0m\u001b[0;34m\u001b[0m\u001b[0;34m\u001b[0m\u001b[0m\n\u001b[0m\u001b[1;32m      4\u001b[0m \u001b[0mdf2\u001b[0m \u001b[0;34m=\u001b[0m \u001b[0mpd\u001b[0m\u001b[0;34m.\u001b[0m\u001b[0mread_csv\u001b[0m\u001b[0;34m(\u001b[0m\u001b[0;34m'names1981.csv'\u001b[0m\u001b[0;34m,\u001b[0m \u001b[0mnames\u001b[0m \u001b[0;34m=\u001b[0m \u001b[0;34m[\u001b[0m\u001b[0;34m'Name'\u001b[0m\u001b[0;34m,\u001b[0m \u001b[0;34m'Gender'\u001b[0m\u001b[0;34m,\u001b[0m \u001b[0;34m'Count'\u001b[0m\u001b[0;34m]\u001b[0m\u001b[0;34m)\u001b[0m\u001b[0;34m\u001b[0m\u001b[0;34m\u001b[0m\u001b[0m\n\u001b[1;32m      5\u001b[0m \u001b[0;34m\u001b[0m\u001b[0m\n",
            "\u001b[0;32m/usr/local/lib/python3.6/dist-packages/pandas/io/parsers.py\u001b[0m in \u001b[0;36mparser_f\u001b[0;34m(filepath_or_buffer, sep, delimiter, header, names, index_col, usecols, squeeze, prefix, mangle_dupe_cols, dtype, engine, converters, true_values, false_values, skipinitialspace, skiprows, skipfooter, nrows, na_values, keep_default_na, na_filter, verbose, skip_blank_lines, parse_dates, infer_datetime_format, keep_date_col, date_parser, dayfirst, cache_dates, iterator, chunksize, compression, thousands, decimal, lineterminator, quotechar, quoting, doublequote, escapechar, comment, encoding, dialect, error_bad_lines, warn_bad_lines, delim_whitespace, low_memory, memory_map, float_precision)\u001b[0m\n\u001b[1;32m    674\u001b[0m         )\n\u001b[1;32m    675\u001b[0m \u001b[0;34m\u001b[0m\u001b[0m\n\u001b[0;32m--> 676\u001b[0;31m         \u001b[0;32mreturn\u001b[0m \u001b[0m_read\u001b[0m\u001b[0;34m(\u001b[0m\u001b[0mfilepath_or_buffer\u001b[0m\u001b[0;34m,\u001b[0m \u001b[0mkwds\u001b[0m\u001b[0;34m)\u001b[0m\u001b[0;34m\u001b[0m\u001b[0;34m\u001b[0m\u001b[0m\n\u001b[0m\u001b[1;32m    677\u001b[0m \u001b[0;34m\u001b[0m\u001b[0m\n\u001b[1;32m    678\u001b[0m     \u001b[0mparser_f\u001b[0m\u001b[0;34m.\u001b[0m\u001b[0m__name__\u001b[0m \u001b[0;34m=\u001b[0m \u001b[0mname\u001b[0m\u001b[0;34m\u001b[0m\u001b[0;34m\u001b[0m\u001b[0m\n",
            "\u001b[0;32m/usr/local/lib/python3.6/dist-packages/pandas/io/parsers.py\u001b[0m in \u001b[0;36m_read\u001b[0;34m(filepath_or_buffer, kwds)\u001b[0m\n\u001b[1;32m    446\u001b[0m \u001b[0;34m\u001b[0m\u001b[0m\n\u001b[1;32m    447\u001b[0m     \u001b[0;31m# Create the parser.\u001b[0m\u001b[0;34m\u001b[0m\u001b[0;34m\u001b[0m\u001b[0;34m\u001b[0m\u001b[0m\n\u001b[0;32m--> 448\u001b[0;31m     \u001b[0mparser\u001b[0m \u001b[0;34m=\u001b[0m \u001b[0mTextFileReader\u001b[0m\u001b[0;34m(\u001b[0m\u001b[0mfp_or_buf\u001b[0m\u001b[0;34m,\u001b[0m \u001b[0;34m**\u001b[0m\u001b[0mkwds\u001b[0m\u001b[0;34m)\u001b[0m\u001b[0;34m\u001b[0m\u001b[0;34m\u001b[0m\u001b[0m\n\u001b[0m\u001b[1;32m    449\u001b[0m \u001b[0;34m\u001b[0m\u001b[0m\n\u001b[1;32m    450\u001b[0m     \u001b[0;32mif\u001b[0m \u001b[0mchunksize\u001b[0m \u001b[0;32mor\u001b[0m \u001b[0miterator\u001b[0m\u001b[0;34m:\u001b[0m\u001b[0;34m\u001b[0m\u001b[0;34m\u001b[0m\u001b[0m\n",
            "\u001b[0;32m/usr/local/lib/python3.6/dist-packages/pandas/io/parsers.py\u001b[0m in \u001b[0;36m__init__\u001b[0;34m(self, f, engine, **kwds)\u001b[0m\n\u001b[1;32m    878\u001b[0m             \u001b[0mself\u001b[0m\u001b[0;34m.\u001b[0m\u001b[0moptions\u001b[0m\u001b[0;34m[\u001b[0m\u001b[0;34m\"has_index_names\"\u001b[0m\u001b[0;34m]\u001b[0m \u001b[0;34m=\u001b[0m \u001b[0mkwds\u001b[0m\u001b[0;34m[\u001b[0m\u001b[0;34m\"has_index_names\"\u001b[0m\u001b[0;34m]\u001b[0m\u001b[0;34m\u001b[0m\u001b[0;34m\u001b[0m\u001b[0m\n\u001b[1;32m    879\u001b[0m \u001b[0;34m\u001b[0m\u001b[0m\n\u001b[0;32m--> 880\u001b[0;31m         \u001b[0mself\u001b[0m\u001b[0;34m.\u001b[0m\u001b[0m_make_engine\u001b[0m\u001b[0;34m(\u001b[0m\u001b[0mself\u001b[0m\u001b[0;34m.\u001b[0m\u001b[0mengine\u001b[0m\u001b[0;34m)\u001b[0m\u001b[0;34m\u001b[0m\u001b[0;34m\u001b[0m\u001b[0m\n\u001b[0m\u001b[1;32m    881\u001b[0m \u001b[0;34m\u001b[0m\u001b[0m\n\u001b[1;32m    882\u001b[0m     \u001b[0;32mdef\u001b[0m \u001b[0mclose\u001b[0m\u001b[0;34m(\u001b[0m\u001b[0mself\u001b[0m\u001b[0;34m)\u001b[0m\u001b[0;34m:\u001b[0m\u001b[0;34m\u001b[0m\u001b[0;34m\u001b[0m\u001b[0m\n",
            "\u001b[0;32m/usr/local/lib/python3.6/dist-packages/pandas/io/parsers.py\u001b[0m in \u001b[0;36m_make_engine\u001b[0;34m(self, engine)\u001b[0m\n\u001b[1;32m   1112\u001b[0m     \u001b[0;32mdef\u001b[0m \u001b[0m_make_engine\u001b[0m\u001b[0;34m(\u001b[0m\u001b[0mself\u001b[0m\u001b[0;34m,\u001b[0m \u001b[0mengine\u001b[0m\u001b[0;34m=\u001b[0m\u001b[0;34m\"c\"\u001b[0m\u001b[0;34m)\u001b[0m\u001b[0;34m:\u001b[0m\u001b[0;34m\u001b[0m\u001b[0;34m\u001b[0m\u001b[0m\n\u001b[1;32m   1113\u001b[0m         \u001b[0;32mif\u001b[0m \u001b[0mengine\u001b[0m \u001b[0;34m==\u001b[0m \u001b[0;34m\"c\"\u001b[0m\u001b[0;34m:\u001b[0m\u001b[0;34m\u001b[0m\u001b[0;34m\u001b[0m\u001b[0m\n\u001b[0;32m-> 1114\u001b[0;31m             \u001b[0mself\u001b[0m\u001b[0;34m.\u001b[0m\u001b[0m_engine\u001b[0m \u001b[0;34m=\u001b[0m \u001b[0mCParserWrapper\u001b[0m\u001b[0;34m(\u001b[0m\u001b[0mself\u001b[0m\u001b[0;34m.\u001b[0m\u001b[0mf\u001b[0m\u001b[0;34m,\u001b[0m \u001b[0;34m**\u001b[0m\u001b[0mself\u001b[0m\u001b[0;34m.\u001b[0m\u001b[0moptions\u001b[0m\u001b[0;34m)\u001b[0m\u001b[0;34m\u001b[0m\u001b[0;34m\u001b[0m\u001b[0m\n\u001b[0m\u001b[1;32m   1115\u001b[0m         \u001b[0;32melse\u001b[0m\u001b[0;34m:\u001b[0m\u001b[0;34m\u001b[0m\u001b[0;34m\u001b[0m\u001b[0m\n\u001b[1;32m   1116\u001b[0m             \u001b[0;32mif\u001b[0m \u001b[0mengine\u001b[0m \u001b[0;34m==\u001b[0m \u001b[0;34m\"python\"\u001b[0m\u001b[0;34m:\u001b[0m\u001b[0;34m\u001b[0m\u001b[0;34m\u001b[0m\u001b[0m\n",
            "\u001b[0;32m/usr/local/lib/python3.6/dist-packages/pandas/io/parsers.py\u001b[0m in \u001b[0;36m__init__\u001b[0;34m(self, src, **kwds)\u001b[0m\n\u001b[1;32m   1889\u001b[0m         \u001b[0mkwds\u001b[0m\u001b[0;34m[\u001b[0m\u001b[0;34m\"usecols\"\u001b[0m\u001b[0;34m]\u001b[0m \u001b[0;34m=\u001b[0m \u001b[0mself\u001b[0m\u001b[0;34m.\u001b[0m\u001b[0musecols\u001b[0m\u001b[0;34m\u001b[0m\u001b[0;34m\u001b[0m\u001b[0m\n\u001b[1;32m   1890\u001b[0m \u001b[0;34m\u001b[0m\u001b[0m\n\u001b[0;32m-> 1891\u001b[0;31m         \u001b[0mself\u001b[0m\u001b[0;34m.\u001b[0m\u001b[0m_reader\u001b[0m \u001b[0;34m=\u001b[0m \u001b[0mparsers\u001b[0m\u001b[0;34m.\u001b[0m\u001b[0mTextReader\u001b[0m\u001b[0;34m(\u001b[0m\u001b[0msrc\u001b[0m\u001b[0;34m,\u001b[0m \u001b[0;34m**\u001b[0m\u001b[0mkwds\u001b[0m\u001b[0;34m)\u001b[0m\u001b[0;34m\u001b[0m\u001b[0;34m\u001b[0m\u001b[0m\n\u001b[0m\u001b[1;32m   1892\u001b[0m         \u001b[0mself\u001b[0m\u001b[0;34m.\u001b[0m\u001b[0munnamed_cols\u001b[0m \u001b[0;34m=\u001b[0m \u001b[0mself\u001b[0m\u001b[0;34m.\u001b[0m\u001b[0m_reader\u001b[0m\u001b[0;34m.\u001b[0m\u001b[0munnamed_cols\u001b[0m\u001b[0;34m\u001b[0m\u001b[0;34m\u001b[0m\u001b[0m\n\u001b[1;32m   1893\u001b[0m \u001b[0;34m\u001b[0m\u001b[0m\n",
            "\u001b[0;32mpandas/_libs/parsers.pyx\u001b[0m in \u001b[0;36mpandas._libs.parsers.TextReader.__cinit__\u001b[0;34m()\u001b[0m\n",
            "\u001b[0;32mpandas/_libs/parsers.pyx\u001b[0m in \u001b[0;36mpandas._libs.parsers.TextReader._setup_parser_source\u001b[0;34m()\u001b[0m\n",
            "\u001b[0;31mFileNotFoundError\u001b[0m: [Errno 2] File names1881.csv does not exist: 'names1881.csv'"
          ]
        }
      ]
    },
    {
      "cell_type": "markdown",
      "metadata": {
        "id": "vxp88Xe5CjbF",
        "colab_type": "text"
      },
      "source": [
        "Expected Result : \n",
        "\n",
        "Jumlah Dimensi data 'names1881.csv' : \n",
        "\n",
        "(1935, 3)\n",
        "\n",
        "Jumlah Baris data 'names1981.csv' :\n",
        "\n",
        "(19455, 3)\n",
        "\n",
        "![alt text](https://drive.google.com/uc?id=1jMCAdLrcJubjufydZBnzdQkYqDS3Klat)\n",
        "\n",
        "Jumlah dimensi data setelah penggabungan : \n",
        "\n",
        "(21390, 3)"
      ]
    },
    {
      "cell_type": "markdown",
      "metadata": {
        "id": "yALBDvlQCjbJ",
        "colab_type": "text"
      },
      "source": [
        "<h2>Quiz 3 : Penggabungan Data</h2>\n",
        "\n",
        "Lakukan jenis penggabungan data full outer join, inner join, left outer join dan right outer join pada kedua data berikut : "
      ]
    },
    {
      "cell_type": "code",
      "metadata": {
        "id": "GQtYaV1gCjbM",
        "colab_type": "code",
        "colab": {
          "base_uri": "https://localhost:8080/",
          "height": 136
        },
        "outputId": "0913c1f0-db9d-445e-f517-dd481fa6fea9"
      },
      "source": [
        "import pandas as pd\n",
        "\n",
        "data1 = {\n",
        "    'id' : [1, 2, 3, 4],\n",
        "    'Feature1' : ['a1', 'a2', 'a3', 'a4'],\n",
        "    'Feature2' : ['b1', 'b2', 'b3', 'b4']\n",
        "}\n",
        "\n",
        "data2 = {\n",
        "    'id' : [3, 4, 5 ,6, 7],\n",
        "    'Feature3' : ['c1', 'c2', 'c3', 'c4', 'c5']\n",
        "}\n",
        "\n",
        "df1= pd.DataFrame(data1)\n",
        "df2= pd.DataFrame(data2)\n",
        "\n",
        "print(df1['id'][2])\n",
        "print(df2)"
      ],
      "execution_count": null,
      "outputs": [
        {
          "output_type": "stream",
          "text": [
            "3\n",
            "   id Feature3\n",
            "0   3       c1\n",
            "1   4       c2\n",
            "2   5       c3\n",
            "3   6       c4\n",
            "4   7       c5\n"
          ],
          "name": "stdout"
        }
      ]
    },
    {
      "cell_type": "code",
      "metadata": {
        "id": "sMuRgJYhCjbg",
        "colab_type": "code",
        "colab": {
          "base_uri": "https://localhost:8080/",
          "height": 391
        },
        "outputId": "e4b5c48b-3627-42e9-f705-b0b43c49c97f"
      },
      "source": [
        "# join data\n",
        "df_outer_join = pd.merge(df1,df2, how='outer')\n",
        "print(df_outer_join)\n",
        "\n",
        "df_inner_join = pd.merge(df1,df2, how='inner')\n",
        "print(df_inner_join)\n",
        "\n",
        "df_left_join = pd.merge(df1,df2, how='left')\n",
        "print(df_left_join)\n",
        "\n",
        "df_right_join = pd.merge(df1,df2, how='right')\n",
        "print(df_right_join)"
      ],
      "execution_count": null,
      "outputs": [
        {
          "output_type": "stream",
          "text": [
            "   id Feature1 Feature2 Feature3\n",
            "0   1       a1       b1      NaN\n",
            "1   2       a2       b2      NaN\n",
            "2   3       a3       b3       c1\n",
            "3   4       a4       b4       c2\n",
            "4   5      NaN      NaN       c3\n",
            "5   6      NaN      NaN       c4\n",
            "6   7      NaN      NaN       c5\n",
            "   id Feature1 Feature2 Feature3\n",
            "0   3       a3       b3       c1\n",
            "1   4       a4       b4       c2\n",
            "   id Feature1 Feature2 Feature3\n",
            "0   1       a1       b1      NaN\n",
            "1   2       a2       b2      NaN\n",
            "2   3       a3       b3       c1\n",
            "3   4       a4       b4       c2\n",
            "   id Feature1 Feature2 Feature3\n",
            "0   3       a3       b3       c1\n",
            "1   4       a4       b4       c2\n",
            "2   5      NaN      NaN       c3\n",
            "3   6      NaN      NaN       c4\n",
            "4   7      NaN      NaN       c5\n"
          ],
          "name": "stdout"
        }
      ]
    },
    {
      "cell_type": "markdown",
      "metadata": {
        "id": "p2YbxGt8Cjb1",
        "colab_type": "text"
      },
      "source": [
        "Expected Result :\n",
        "\n",
        "![alt text](https://drive.google.com/uc?id=1kUpkzWh3Y-X_1H1QXHiccdHf4YjqXsDu)\n",
        "\n",
        "![alt text](https://drive.google.com/uc?id=1ojoAC2oX9P3ZHl0lS3RXipd7gShLOmmC)\n",
        "\n",
        "![alt text](https://drive.google.com/uc?id=12jDnQzIosn6dizVwl2nPMX1IhhyEZ4FA)\n",
        "\n",
        "![alt text](https://drive.google.com/uc?id=11znqscNsVZ-cHY-PPgoHEBDWyc6XRtAL)"
      ]
    },
    {
      "cell_type": "markdown",
      "metadata": {
        "id": "2hfhFcsACjb4",
        "colab_type": "text"
      },
      "source": [
        "<h2>Quiz 4 : Penggabungan Data berbeda label column Key</h2>\n",
        "\n",
        "Lakukan jenis penggabungan inner join untuk 2 data yang memiliki nama column key yang berbeda ini :"
      ]
    },
    {
      "cell_type": "code",
      "metadata": {
        "id": "9eE1RWfKCjb9",
        "colab_type": "code",
        "colab": {
          "base_uri": "https://localhost:8080/",
          "height": 204
        },
        "outputId": "135dac62-f85e-4960-86d3-5a91a498a211"
      },
      "source": [
        "data1 = {\n",
        "    'key_data1' : [1, 2, 3, 4],\n",
        "    'Feature1' : ['a1', 'a2', 'a3', 'a4'],\n",
        "    'Feature2' : ['b1', 'b2', 'b3', 'b4']\n",
        "}\n",
        "\n",
        "data2 = {\n",
        "    'key_data2' : [3, 4, 5 ,6, 7],\n",
        "    'Feature3' : ['c1', 'c2', 'c3', 'c4', 'c5']\n",
        "}\n",
        "\n",
        "df1= pd.DataFrame(data1)\n",
        "df2= pd.DataFrame(data2)\n",
        "\n",
        "print(df1)\n",
        "print(df2)"
      ],
      "execution_count": null,
      "outputs": [
        {
          "output_type": "stream",
          "text": [
            "   key_data1 Feature1 Feature2\n",
            "0          1       a1       b1\n",
            "1          2       a2       b2\n",
            "2          3       a3       b3\n",
            "3          4       a4       b4\n",
            "   key_data2 Feature3\n",
            "0          3       c1\n",
            "1          4       c2\n",
            "2          5       c3\n",
            "3          6       c4\n",
            "4          7       c5\n"
          ],
          "name": "stdout"
        }
      ]
    },
    {
      "cell_type": "code",
      "metadata": {
        "id": "OiD9K234CjcV",
        "colab_type": "code",
        "colab": {
          "base_uri": "https://localhost:8080/",
          "height": 111
        },
        "outputId": "0382d435-0926-4364-dec1-5a24bb2df993"
      },
      "source": [
        "# Gabungkan kedua data tersebut\n",
        "df_gabung = pd.merge(df1,df2,how='inner', left_on='key_data1', right_on='key_data2')\n",
        "\n",
        "df_gabung"
      ],
      "execution_count": null,
      "outputs": [
        {
          "output_type": "execute_result",
          "data": {
            "text/html": [
              "<div>\n",
              "<style scoped>\n",
              "    .dataframe tbody tr th:only-of-type {\n",
              "        vertical-align: middle;\n",
              "    }\n",
              "\n",
              "    .dataframe tbody tr th {\n",
              "        vertical-align: top;\n",
              "    }\n",
              "\n",
              "    .dataframe thead th {\n",
              "        text-align: right;\n",
              "    }\n",
              "</style>\n",
              "<table border=\"1\" class=\"dataframe\">\n",
              "  <thead>\n",
              "    <tr style=\"text-align: right;\">\n",
              "      <th></th>\n",
              "      <th>key_data1</th>\n",
              "      <th>Feature1</th>\n",
              "      <th>Feature2</th>\n",
              "      <th>key_data2</th>\n",
              "      <th>Feature3</th>\n",
              "    </tr>\n",
              "  </thead>\n",
              "  <tbody>\n",
              "    <tr>\n",
              "      <th>0</th>\n",
              "      <td>3</td>\n",
              "      <td>a3</td>\n",
              "      <td>b3</td>\n",
              "      <td>3</td>\n",
              "      <td>c1</td>\n",
              "    </tr>\n",
              "    <tr>\n",
              "      <th>1</th>\n",
              "      <td>4</td>\n",
              "      <td>a4</td>\n",
              "      <td>b4</td>\n",
              "      <td>4</td>\n",
              "      <td>c2</td>\n",
              "    </tr>\n",
              "  </tbody>\n",
              "</table>\n",
              "</div>"
            ],
            "text/plain": [
              "   key_data1 Feature1 Feature2  key_data2 Feature3\n",
              "0          3       a3       b3          3       c1\n",
              "1          4       a4       b4          4       c2"
            ]
          },
          "metadata": {
            "tags": []
          },
          "execution_count": 22
        }
      ]
    },
    {
      "cell_type": "markdown",
      "metadata": {
        "id": "KP38kgIBCjco",
        "colab_type": "text"
      },
      "source": [
        "Expected Result :\n",
        "\n",
        "![alt text](https://drive.google.com/uc?id=1uBiVOPnqns4al88FDc0ENIeTzIxP4wxH)"
      ]
    }
  ]
}