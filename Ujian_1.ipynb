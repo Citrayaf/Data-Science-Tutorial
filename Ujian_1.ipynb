{
  "nbformat": 4,
  "nbformat_minor": 0,
  "metadata": {
    "colab": {
      "name": "Ujian_1.ipynb",
      "provenance": []
    },
    "kernelspec": {
      "name": "python3",
      "display_name": "Python 3"
    }
  },
  "cells": [
    {
      "cell_type": "code",
      "metadata": {
        "id": "k3ceVitRE0C-",
        "colab_type": "code",
        "colab": {
          "base_uri": "https://localhost:8080/",
          "height": 51
        },
        "outputId": "1479910e-5ec0-4186-b5e4-9521ab8c9b06"
      },
      "source": [
        "#1\n",
        "# solusi tanpa menggunakan set\n",
        "def remove_duplicate(obj_list):\n",
        "    new_list=[]\n",
        "    for ki in range(len(obj_list)):\n",
        "      new_list.append(obj_list[ki])\n",
        "      count=0\n",
        "\n",
        "      for ji in range(len(new_list)):\n",
        "        \n",
        "        if (obj_list[ki] == new_list[ji] and len(new_list) != 1):\n",
        "            count += 1\n",
        "      if count>1:\n",
        "        del(new_list[len(new_list)-1])\n",
        "    return sorted(new_list)\n",
        "\n",
        "# solusi dengan menggunakan set\n",
        "def remove_duplicate_with_set(obj_list):\n",
        "    new_list=set(obj_list)\n",
        "    return new_list\n",
        "\n",
        "obj_list = [1, 2, 4, 6, 2, 1, 4, 5, 7, 8, 6]\n",
        "print(remove_duplicate(obj_list))\n",
        "print(remove_duplicate_with_set(obj_list))"
      ],
      "execution_count": null,
      "outputs": [
        {
          "output_type": "stream",
          "text": [
            "[1, 2, 4, 5, 6, 7, 8]\n",
            "{1, 2, 4, 5, 6, 7, 8}\n"
          ],
          "name": "stdout"
        }
      ]
    },
    {
      "cell_type": "code",
      "metadata": {
        "id": "L8XUZapaFcqe",
        "colab_type": "code",
        "colab": {
          "base_uri": "https://localhost:8080/",
          "height": 85
        },
        "outputId": "c2e01153-cff6-4ca2-823b-5c554eccb48d"
      },
      "source": [
        "# import library\n",
        "from datetime import datetime\n",
        "import random\n",
        "\n",
        "# ganti dengan sebuah nama\n",
        "nama  = \"DarkShine02\"\n",
        "# variabel tanggal\n",
        "tanggal = datetime.now().day\n",
        "# default variabel untuk pertanyaan tidak diketahui\n",
        "default = \"maaf, aku tidak tahu jawaban dari pertanyaanmu\"\n",
        "\n",
        "# Membuat objek dictionary berisi berbagai opsi jawaban\n",
        "\n",
        "# list jawaban untuk pertanyaan tentang nama\n",
        "jawaban_nama = [\n",
        "      \"nama saya  {0}\".format(nama),\n",
        "      \"orang-orang memanggil saya {0}\".format(nama),\n",
        "      \"panggil saja saya {0}\".format(nama)\n",
        "   ]\n",
        "\n",
        "# list jawaban untuk pertanyaan tentang tanggal\n",
        "jawaban_tanggal = [\n",
        "      \"hari ini tanggal {0}\".format(tanggal),\n",
        "      \"ya ampun masa tidak tahu, hari ini tanggal\".format(tanggal)\n",
        "    ]\n",
        "\n",
        "# opsi pertanyaan yang bisa dijawab\n",
        "pertanyaan = {\n",
        "  \"nama kamu siapa?\": random.choice(jawaban_nama),\n",
        "  \"kamu siapa?\" : random.choice(jawaban_nama),\n",
        "  \"tanggal berapa hari ini?\": random.choice(jawaban_tanggal),\n",
        "  \"hari ini tanggal berapa?\" : random.choice(jawaban_tanggal),\n",
        "  \"default\": default\n",
        "}\n",
        "\n",
        "# list jawaban untuk sebuah argument selain pertanyaan\n",
        "statement =  [\n",
        "                  'ceritakan lebih banyak!',\n",
        "                  'kenapa kamu berpikir begitu?',\n",
        "                  'sudah berapa lama kamu merasa seperti ini?',\n",
        "                  'Itu sangat menarik!',\n",
        "                  'oh wow!',\n",
        "                  ':)'\n",
        "              ]\n",
        "\n",
        "# respon keseluruhan\n",
        "responses = {\n",
        "    'pertanyaan' : pertanyaan,\n",
        "    'statement' : statement\n",
        "}\n",
        "#------\n",
        "             \n",
        "# ayo buat chatbotmu\n",
        "def chatbot(message):\n",
        "    if ('?' in message):\n",
        "      if ('nama kamu siapa?' in message):\n",
        "        return pertanyaan[message]\n",
        "      elif ('kamu siapa?' in message):\n",
        "        return pertanyaan[message]\n",
        "      elif ('tanggal berapa hari ini?' in message):\n",
        "        return pertanyaan[message]\n",
        "      elif ('hari ini tanggal berapa?' in message):\n",
        "        return pertanyaan[message]\n",
        "      else:\n",
        "        return pertanyaan['default']\n",
        "    else:\n",
        "      return random.choice(statement)\n",
        "\n",
        "print(chatbot('Selamat Pagi'))\n",
        "print(chatbot('Mau bermain bersamaku?'))\n",
        "print(chatbot('nama kamu siapa?'))\n",
        "print(chatbot('hari ini tanggal berapa?'))\n",
        "\n"
      ],
      "execution_count": null,
      "outputs": [
        {
          "output_type": "stream",
          "text": [
            "sudah berapa lama kamu merasa seperti ini?\n",
            "maaf, aku tidak tahu jawaban dari pertanyaanmu\n",
            "nama saya  DarkShine02\n",
            "hari ini tanggal 25\n"
          ],
          "name": "stdout"
        }
      ]
    }
  ]
}