{
  "nbformat": 4,
  "nbformat_minor": 0,
  "metadata": {
    "kernelspec": {
      "display_name": "Python 3",
      "language": "python",
      "name": "python3"
    },
    "language_info": {
      "codemirror_mode": {
        "name": "ipython",
        "version": 3
      },
      "file_extension": ".py",
      "mimetype": "text/x-python",
      "name": "python",
      "nbconvert_exporter": "python",
      "pygments_lexer": "ipython3",
      "version": "3.7.4"
    },
    "colab": {
      "name": "Dasar_(9).ipynb",
      "provenance": [],
      "collapsed_sections": []
    }
  },
  "cells": [
    {
      "cell_type": "markdown",
      "metadata": {
        "id": "HikIDhdpucBa",
        "colab_type": "text"
      },
      "source": [
        "<b>Note</b> : Pada kuis kali ini kita akan menggunakan data diamonds.csv yang bisa kalian download disini. setelah di download, kalian pindahkan data tersebut satu level dengan direktori file notebook ini.\n"
      ]
    },
    {
      "cell_type": "code",
      "metadata": {
        "id": "BCUf3y4rucBb",
        "colab_type": "code",
        "colab": {}
      },
      "source": [
        "import pandas as pd\n",
        "df = pd.read_csv('diamonds-1.csv')\n",
        "df.drop('Unnamed: 0', axis=1, inplace=True)"
      ],
      "execution_count": null,
      "outputs": []
    },
    {
      "cell_type": "code",
      "metadata": {
        "id": "OkNUfkbaucBg",
        "colab_type": "code",
        "colab": {
          "base_uri": "https://localhost:8080/",
          "height": 204
        },
        "outputId": "cfabdc57-2c65-408d-de1a-ce0c0b2ce3df"
      },
      "source": [
        "df.head()"
      ],
      "execution_count": null,
      "outputs": [
        {
          "output_type": "execute_result",
          "data": {
            "text/html": [
              "<div>\n",
              "<style scoped>\n",
              "    .dataframe tbody tr th:only-of-type {\n",
              "        vertical-align: middle;\n",
              "    }\n",
              "\n",
              "    .dataframe tbody tr th {\n",
              "        vertical-align: top;\n",
              "    }\n",
              "\n",
              "    .dataframe thead th {\n",
              "        text-align: right;\n",
              "    }\n",
              "</style>\n",
              "<table border=\"1\" class=\"dataframe\">\n",
              "  <thead>\n",
              "    <tr style=\"text-align: right;\">\n",
              "      <th></th>\n",
              "      <th>carat</th>\n",
              "      <th>cut</th>\n",
              "      <th>color</th>\n",
              "      <th>clarity</th>\n",
              "      <th>depth</th>\n",
              "      <th>table</th>\n",
              "      <th>price</th>\n",
              "      <th>x</th>\n",
              "      <th>y</th>\n",
              "      <th>z</th>\n",
              "    </tr>\n",
              "  </thead>\n",
              "  <tbody>\n",
              "    <tr>\n",
              "      <th>0</th>\n",
              "      <td>0.23</td>\n",
              "      <td>Ideal</td>\n",
              "      <td>E</td>\n",
              "      <td>SI2</td>\n",
              "      <td>61.5</td>\n",
              "      <td>55.0</td>\n",
              "      <td>326</td>\n",
              "      <td>3.95</td>\n",
              "      <td>3.98</td>\n",
              "      <td>2.43</td>\n",
              "    </tr>\n",
              "    <tr>\n",
              "      <th>1</th>\n",
              "      <td>0.21</td>\n",
              "      <td>Premium</td>\n",
              "      <td>E</td>\n",
              "      <td>SI1</td>\n",
              "      <td>59.8</td>\n",
              "      <td>61.0</td>\n",
              "      <td>326</td>\n",
              "      <td>3.89</td>\n",
              "      <td>3.84</td>\n",
              "      <td>2.31</td>\n",
              "    </tr>\n",
              "    <tr>\n",
              "      <th>2</th>\n",
              "      <td>0.23</td>\n",
              "      <td>Good</td>\n",
              "      <td>E</td>\n",
              "      <td>VS1</td>\n",
              "      <td>56.9</td>\n",
              "      <td>65.0</td>\n",
              "      <td>327</td>\n",
              "      <td>4.05</td>\n",
              "      <td>4.07</td>\n",
              "      <td>2.31</td>\n",
              "    </tr>\n",
              "    <tr>\n",
              "      <th>3</th>\n",
              "      <td>0.29</td>\n",
              "      <td>Premium</td>\n",
              "      <td>I</td>\n",
              "      <td>VS2</td>\n",
              "      <td>62.4</td>\n",
              "      <td>58.0</td>\n",
              "      <td>334</td>\n",
              "      <td>4.20</td>\n",
              "      <td>4.23</td>\n",
              "      <td>2.63</td>\n",
              "    </tr>\n",
              "    <tr>\n",
              "      <th>4</th>\n",
              "      <td>0.31</td>\n",
              "      <td>Good</td>\n",
              "      <td>J</td>\n",
              "      <td>SI2</td>\n",
              "      <td>63.3</td>\n",
              "      <td>58.0</td>\n",
              "      <td>335</td>\n",
              "      <td>4.34</td>\n",
              "      <td>4.35</td>\n",
              "      <td>2.75</td>\n",
              "    </tr>\n",
              "  </tbody>\n",
              "</table>\n",
              "</div>"
            ],
            "text/plain": [
              "   carat      cut color clarity  depth  table  price     x     y     z\n",
              "0   0.23    Ideal     E     SI2   61.5   55.0    326  3.95  3.98  2.43\n",
              "1   0.21  Premium     E     SI1   59.8   61.0    326  3.89  3.84  2.31\n",
              "2   0.23     Good     E     VS1   56.9   65.0    327  4.05  4.07  2.31\n",
              "3   0.29  Premium     I     VS2   62.4   58.0    334  4.20  4.23  2.63\n",
              "4   0.31     Good     J     SI2   63.3   58.0    335  4.34  4.35  2.75"
            ]
          },
          "metadata": {
            "tags": []
          },
          "execution_count": 2
        }
      ]
    },
    {
      "cell_type": "markdown",
      "metadata": {
        "id": "SosMXedIucBl",
        "colab_type": "text"
      },
      "source": [
        "Columns Metadata :\n",
        "\n",
        "carat : berat diamond\n",
        "\n",
        "cut : kualitas diamond\n",
        "\n",
        "color : warna diamond\n",
        "\n",
        "clarity : level kemurnian diamonds\n",
        "\n",
        "depth : tinggi dari diamond tabel\n",
        "\n",
        "table : lebar  dari diamond tabel\n",
        "\n",
        "price : harga diamond ($US)\n",
        "\n",
        "x : panjang\n",
        "\n",
        "y : lebar\n",
        "\n",
        "z : kedalaaman"
      ]
    },
    {
      "cell_type": "markdown",
      "metadata": {
        "id": "4ChXshc0ucBl",
        "colab_type": "text"
      },
      "source": [
        "<h2>Quiz 1 : Process Grouping</h2>\n",
        "\n",
        "Jelaskan prosess yang terjadi dalam grouping data menggungkan method <b>groupby()</b> dari pandas."
      ]
    },
    {
      "cell_type": "markdown",
      "metadata": {
        "id": "y5D2GQXcucBm",
        "colab_type": "text"
      },
      "source": [
        "- Splitting : Memisahkan data kedalam suatu group berdasarkan kriteria tertentu.\n",
        "- Applying : Melakukan suatu operasi terhadap sekumpulan data di group-group tersebut.\n",
        "- Combining : Menggabungkan data menjadi suatu struktur baru"
      ]
    },
    {
      "cell_type": "markdown",
      "metadata": {
        "id": "JJCBn3gXucBn",
        "colab_type": "text"
      },
      "source": [
        "<h2>Quiz 2 : Grouping All Column</h2>\n",
        "    \n",
        "Group data diamond berdasarkan cut (kualitas), lakukan aggregasi dengan fungsi rata2.\n",
        "\n",
        "Kemudian jawab pertanyaan berikut.\n",
        "- Berapa harga rata2 dari diamond berkualitas Premium"
      ]
    },
    {
      "cell_type": "code",
      "metadata": {
        "id": "W1-0sKwlucBn",
        "colab_type": "code",
        "colab": {
          "base_uri": "https://localhost:8080/",
          "height": 235
        },
        "outputId": "9d2f007a-c016-4535-e922-9893be105940"
      },
      "source": [
        "# code here\n",
        "gr = df.groupby('cut').mean()\n",
        "gr\n",
        "\n",
        "\n"
      ],
      "execution_count": null,
      "outputs": [
        {
          "output_type": "execute_result",
          "data": {
            "text/html": [
              "<div>\n",
              "<style scoped>\n",
              "    .dataframe tbody tr th:only-of-type {\n",
              "        vertical-align: middle;\n",
              "    }\n",
              "\n",
              "    .dataframe tbody tr th {\n",
              "        vertical-align: top;\n",
              "    }\n",
              "\n",
              "    .dataframe thead th {\n",
              "        text-align: right;\n",
              "    }\n",
              "</style>\n",
              "<table border=\"1\" class=\"dataframe\">\n",
              "  <thead>\n",
              "    <tr style=\"text-align: right;\">\n",
              "      <th></th>\n",
              "      <th>carat</th>\n",
              "      <th>depth</th>\n",
              "      <th>table</th>\n",
              "      <th>price</th>\n",
              "      <th>x</th>\n",
              "      <th>y</th>\n",
              "      <th>z</th>\n",
              "    </tr>\n",
              "    <tr>\n",
              "      <th>cut</th>\n",
              "      <th></th>\n",
              "      <th></th>\n",
              "      <th></th>\n",
              "      <th></th>\n",
              "      <th></th>\n",
              "      <th></th>\n",
              "      <th></th>\n",
              "    </tr>\n",
              "  </thead>\n",
              "  <tbody>\n",
              "    <tr>\n",
              "      <th>Fair</th>\n",
              "      <td>1.046137</td>\n",
              "      <td>64.041677</td>\n",
              "      <td>59.053789</td>\n",
              "      <td>4358.757764</td>\n",
              "      <td>6.246894</td>\n",
              "      <td>6.182652</td>\n",
              "      <td>3.982770</td>\n",
              "    </tr>\n",
              "    <tr>\n",
              "      <th>Good</th>\n",
              "      <td>0.849185</td>\n",
              "      <td>62.365879</td>\n",
              "      <td>58.694639</td>\n",
              "      <td>3928.864452</td>\n",
              "      <td>5.838785</td>\n",
              "      <td>5.850744</td>\n",
              "      <td>3.639507</td>\n",
              "    </tr>\n",
              "    <tr>\n",
              "      <th>Ideal</th>\n",
              "      <td>0.702837</td>\n",
              "      <td>61.709401</td>\n",
              "      <td>55.951668</td>\n",
              "      <td>3457.541970</td>\n",
              "      <td>5.507451</td>\n",
              "      <td>5.520080</td>\n",
              "      <td>3.401448</td>\n",
              "    </tr>\n",
              "    <tr>\n",
              "      <th>Premium</th>\n",
              "      <td>0.891955</td>\n",
              "      <td>61.264673</td>\n",
              "      <td>58.746095</td>\n",
              "      <td>4584.257704</td>\n",
              "      <td>5.973887</td>\n",
              "      <td>5.944879</td>\n",
              "      <td>3.647124</td>\n",
              "    </tr>\n",
              "    <tr>\n",
              "      <th>Very Good</th>\n",
              "      <td>0.806381</td>\n",
              "      <td>61.818275</td>\n",
              "      <td>57.956150</td>\n",
              "      <td>3981.759891</td>\n",
              "      <td>5.740696</td>\n",
              "      <td>5.770026</td>\n",
              "      <td>3.559801</td>\n",
              "    </tr>\n",
              "  </tbody>\n",
              "</table>\n",
              "</div>"
            ],
            "text/plain": [
              "              carat      depth      table  ...         x         y         z\n",
              "cut                                        ...                              \n",
              "Fair       1.046137  64.041677  59.053789  ...  6.246894  6.182652  3.982770\n",
              "Good       0.849185  62.365879  58.694639  ...  5.838785  5.850744  3.639507\n",
              "Ideal      0.702837  61.709401  55.951668  ...  5.507451  5.520080  3.401448\n",
              "Premium    0.891955  61.264673  58.746095  ...  5.973887  5.944879  3.647124\n",
              "Very Good  0.806381  61.818275  57.956150  ...  5.740696  5.770026  3.559801\n",
              "\n",
              "[5 rows x 7 columns]"
            ]
          },
          "metadata": {
            "tags": []
          },
          "execution_count": 12
        }
      ]
    },
    {
      "cell_type": "markdown",
      "metadata": {
        "id": "tL88OKkqucBq",
        "colab_type": "text"
      },
      "source": [
        "**jawaban**\n",
        "4584.2577042999055"
      ]
    },
    {
      "cell_type": "markdown",
      "metadata": {
        "id": "VIikjOARucBr",
        "colab_type": "text"
      },
      "source": [
        "Expected Output :\n",
        "\n",
        "![image.png](attachment:image.png)"
      ]
    },
    {
      "cell_type": "markdown",
      "metadata": {
        "id": "-wg37HYFucBr",
        "colab_type": "text"
      },
      "source": [
        "<h2>Quiz 3 : Grouping Some Column base on Multiple Criteria</h2>\n",
        "    \n",
        "Lakukan groupby pada data berdasarkan kriteria cut(kualitas) dan color (warna) secara berurutan, dengan aggregasi pada column carat, table, dan price saja. dengan fungsi agregasi rata-rata.\n",
        "\n",
        "Kemudian jawab pertanyaan berikut :\n",
        "- Berapa harga diamond yang berkriteria premium dan berwarna J\n",
        "- Berapa nilai dari carat diamond yang berkriteria very good dan berwarna H"
      ]
    },
    {
      "cell_type": "markdown",
      "metadata": {
        "id": "T7eNGlhxucBr",
        "colab_type": "text"
      },
      "source": [
        "Expected Output :\n",
        "\n",
        "Note : gambar hanya sebagaian dari keseluruhan data\n",
        "\n",
        "![image.png](attachment:image.png)"
      ]
    },
    {
      "cell_type": "code",
      "metadata": {
        "id": "JL_vUb5TucBs",
        "colab_type": "code",
        "colab": {
          "base_uri": "https://localhost:8080/",
          "height": 1000
        },
        "outputId": "0d295b83-e233-4dda-dee8-5e004820bdb4"
      },
      "source": [
        "# code here\n",
        "gro = df.groupby(['cut','color'])['carat','table','price'].mean()\n",
        "gro"
      ],
      "execution_count": null,
      "outputs": [
        {
          "output_type": "stream",
          "text": [
            "/usr/local/lib/python3.6/dist-packages/ipykernel_launcher.py:1: FutureWarning: Indexing with multiple keys (implicitly converted to a tuple of keys) will be deprecated, use a list instead.\n",
            "  \"\"\"Entry point for launching an IPython kernel.\n"
          ],
          "name": "stderr"
        },
        {
          "output_type": "execute_result",
          "data": {
            "text/html": [
              "<div>\n",
              "<style scoped>\n",
              "    .dataframe tbody tr th:only-of-type {\n",
              "        vertical-align: middle;\n",
              "    }\n",
              "\n",
              "    .dataframe tbody tr th {\n",
              "        vertical-align: top;\n",
              "    }\n",
              "\n",
              "    .dataframe thead th {\n",
              "        text-align: right;\n",
              "    }\n",
              "</style>\n",
              "<table border=\"1\" class=\"dataframe\">\n",
              "  <thead>\n",
              "    <tr style=\"text-align: right;\">\n",
              "      <th></th>\n",
              "      <th></th>\n",
              "      <th>carat</th>\n",
              "      <th>table</th>\n",
              "      <th>price</th>\n",
              "    </tr>\n",
              "    <tr>\n",
              "      <th>cut</th>\n",
              "      <th>color</th>\n",
              "      <th></th>\n",
              "      <th></th>\n",
              "      <th></th>\n",
              "    </tr>\n",
              "  </thead>\n",
              "  <tbody>\n",
              "    <tr>\n",
              "      <th rowspan=\"7\" valign=\"top\">Fair</th>\n",
              "      <th>D</th>\n",
              "      <td>0.920123</td>\n",
              "      <td>58.969325</td>\n",
              "      <td>4291.061350</td>\n",
              "    </tr>\n",
              "    <tr>\n",
              "      <th>E</th>\n",
              "      <td>0.856607</td>\n",
              "      <td>59.364732</td>\n",
              "      <td>3682.312500</td>\n",
              "    </tr>\n",
              "    <tr>\n",
              "      <th>F</th>\n",
              "      <td>0.904712</td>\n",
              "      <td>59.453205</td>\n",
              "      <td>3827.003205</td>\n",
              "    </tr>\n",
              "    <tr>\n",
              "      <th>G</th>\n",
              "      <td>1.023822</td>\n",
              "      <td>58.773248</td>\n",
              "      <td>4239.254777</td>\n",
              "    </tr>\n",
              "    <tr>\n",
              "      <th>H</th>\n",
              "      <td>1.219175</td>\n",
              "      <td>58.696370</td>\n",
              "      <td>5135.683168</td>\n",
              "    </tr>\n",
              "    <tr>\n",
              "      <th>I</th>\n",
              "      <td>1.198057</td>\n",
              "      <td>59.237143</td>\n",
              "      <td>4685.445714</td>\n",
              "    </tr>\n",
              "    <tr>\n",
              "      <th>J</th>\n",
              "      <td>1.341176</td>\n",
              "      <td>58.917647</td>\n",
              "      <td>4975.655462</td>\n",
              "    </tr>\n",
              "    <tr>\n",
              "      <th rowspan=\"7\" valign=\"top\">Good</th>\n",
              "      <th>D</th>\n",
              "      <td>0.744517</td>\n",
              "      <td>58.541541</td>\n",
              "      <td>3405.382175</td>\n",
              "    </tr>\n",
              "    <tr>\n",
              "      <th>E</th>\n",
              "      <td>0.745134</td>\n",
              "      <td>58.779957</td>\n",
              "      <td>3423.644159</td>\n",
              "    </tr>\n",
              "    <tr>\n",
              "      <th>F</th>\n",
              "      <td>0.775930</td>\n",
              "      <td>58.910891</td>\n",
              "      <td>3495.750275</td>\n",
              "    </tr>\n",
              "    <tr>\n",
              "      <th>G</th>\n",
              "      <td>0.850896</td>\n",
              "      <td>58.471986</td>\n",
              "      <td>4123.482204</td>\n",
              "    </tr>\n",
              "    <tr>\n",
              "      <th>H</th>\n",
              "      <td>0.914729</td>\n",
              "      <td>58.611111</td>\n",
              "      <td>4276.254986</td>\n",
              "    </tr>\n",
              "    <tr>\n",
              "      <th>I</th>\n",
              "      <td>1.057222</td>\n",
              "      <td>58.773946</td>\n",
              "      <td>5078.532567</td>\n",
              "    </tr>\n",
              "    <tr>\n",
              "      <th>J</th>\n",
              "      <td>1.099544</td>\n",
              "      <td>58.813029</td>\n",
              "      <td>4574.172638</td>\n",
              "    </tr>\n",
              "    <tr>\n",
              "      <th rowspan=\"7\" valign=\"top\">Ideal</th>\n",
              "      <th>D</th>\n",
              "      <td>0.565766</td>\n",
              "      <td>55.965632</td>\n",
              "      <td>2629.094566</td>\n",
              "    </tr>\n",
              "    <tr>\n",
              "      <th>E</th>\n",
              "      <td>0.578401</td>\n",
              "      <td>55.967461</td>\n",
              "      <td>2597.550090</td>\n",
              "    </tr>\n",
              "    <tr>\n",
              "      <th>F</th>\n",
              "      <td>0.655829</td>\n",
              "      <td>55.924203</td>\n",
              "      <td>3374.939362</td>\n",
              "    </tr>\n",
              "    <tr>\n",
              "      <th>G</th>\n",
              "      <td>0.700715</td>\n",
              "      <td>55.902375</td>\n",
              "      <td>3720.706388</td>\n",
              "    </tr>\n",
              "    <tr>\n",
              "      <th>H</th>\n",
              "      <td>0.799525</td>\n",
              "      <td>55.965843</td>\n",
              "      <td>3889.334831</td>\n",
              "    </tr>\n",
              "    <tr>\n",
              "      <th>I</th>\n",
              "      <td>0.913029</td>\n",
              "      <td>56.021357</td>\n",
              "      <td>4451.970377</td>\n",
              "    </tr>\n",
              "    <tr>\n",
              "      <th>J</th>\n",
              "      <td>1.063594</td>\n",
              "      <td>56.012612</td>\n",
              "      <td>4918.186384</td>\n",
              "    </tr>\n",
              "    <tr>\n",
              "      <th rowspan=\"7\" valign=\"top\">Premium</th>\n",
              "      <th>D</th>\n",
              "      <td>0.721547</td>\n",
              "      <td>58.718964</td>\n",
              "      <td>3631.292576</td>\n",
              "    </tr>\n",
              "    <tr>\n",
              "      <th>E</th>\n",
              "      <td>0.717745</td>\n",
              "      <td>58.779461</td>\n",
              "      <td>3538.914420</td>\n",
              "    </tr>\n",
              "    <tr>\n",
              "      <th>F</th>\n",
              "      <td>0.827036</td>\n",
              "      <td>58.679279</td>\n",
              "      <td>4324.890176</td>\n",
              "    </tr>\n",
              "    <tr>\n",
              "      <th>G</th>\n",
              "      <td>0.841488</td>\n",
              "      <td>58.702360</td>\n",
              "      <td>4500.742134</td>\n",
              "    </tr>\n",
              "    <tr>\n",
              "      <th>H</th>\n",
              "      <td>1.016449</td>\n",
              "      <td>58.792034</td>\n",
              "      <td>5216.706780</td>\n",
              "    </tr>\n",
              "    <tr>\n",
              "      <th>I</th>\n",
              "      <td>1.144937</td>\n",
              "      <td>58.771849</td>\n",
              "      <td>5946.180672</td>\n",
              "    </tr>\n",
              "    <tr>\n",
              "      <th>J</th>\n",
              "      <td>1.293094</td>\n",
              "      <td>58.874752</td>\n",
              "      <td>6294.591584</td>\n",
              "    </tr>\n",
              "    <tr>\n",
              "      <th rowspan=\"7\" valign=\"top\">Very Good</th>\n",
              "      <th>D</th>\n",
              "      <td>0.696424</td>\n",
              "      <td>58.041309</td>\n",
              "      <td>3470.467284</td>\n",
              "    </tr>\n",
              "    <tr>\n",
              "      <th>E</th>\n",
              "      <td>0.676317</td>\n",
              "      <td>58.038875</td>\n",
              "      <td>3214.652083</td>\n",
              "    </tr>\n",
              "    <tr>\n",
              "      <th>F</th>\n",
              "      <td>0.740961</td>\n",
              "      <td>57.848429</td>\n",
              "      <td>3778.820240</td>\n",
              "    </tr>\n",
              "    <tr>\n",
              "      <th>G</th>\n",
              "      <td>0.766799</td>\n",
              "      <td>57.784428</td>\n",
              "      <td>3872.753806</td>\n",
              "    </tr>\n",
              "    <tr>\n",
              "      <th>H</th>\n",
              "      <td>0.915948</td>\n",
              "      <td>57.903015</td>\n",
              "      <td>4535.390351</td>\n",
              "    </tr>\n",
              "    <tr>\n",
              "      <th>I</th>\n",
              "      <td>1.046952</td>\n",
              "      <td>58.105150</td>\n",
              "      <td>5255.879568</td>\n",
              "    </tr>\n",
              "    <tr>\n",
              "      <th>J</th>\n",
              "      <td>1.133215</td>\n",
              "      <td>58.277729</td>\n",
              "      <td>5103.513274</td>\n",
              "    </tr>\n",
              "  </tbody>\n",
              "</table>\n",
              "</div>"
            ],
            "text/plain": [
              "                    carat      table        price\n",
              "cut       color                                  \n",
              "Fair      D      0.920123  58.969325  4291.061350\n",
              "          E      0.856607  59.364732  3682.312500\n",
              "          F      0.904712  59.453205  3827.003205\n",
              "          G      1.023822  58.773248  4239.254777\n",
              "          H      1.219175  58.696370  5135.683168\n",
              "          I      1.198057  59.237143  4685.445714\n",
              "          J      1.341176  58.917647  4975.655462\n",
              "Good      D      0.744517  58.541541  3405.382175\n",
              "          E      0.745134  58.779957  3423.644159\n",
              "          F      0.775930  58.910891  3495.750275\n",
              "          G      0.850896  58.471986  4123.482204\n",
              "          H      0.914729  58.611111  4276.254986\n",
              "          I      1.057222  58.773946  5078.532567\n",
              "          J      1.099544  58.813029  4574.172638\n",
              "Ideal     D      0.565766  55.965632  2629.094566\n",
              "          E      0.578401  55.967461  2597.550090\n",
              "          F      0.655829  55.924203  3374.939362\n",
              "          G      0.700715  55.902375  3720.706388\n",
              "          H      0.799525  55.965843  3889.334831\n",
              "          I      0.913029  56.021357  4451.970377\n",
              "          J      1.063594  56.012612  4918.186384\n",
              "Premium   D      0.721547  58.718964  3631.292576\n",
              "          E      0.717745  58.779461  3538.914420\n",
              "          F      0.827036  58.679279  4324.890176\n",
              "          G      0.841488  58.702360  4500.742134\n",
              "          H      1.016449  58.792034  5216.706780\n",
              "          I      1.144937  58.771849  5946.180672\n",
              "          J      1.293094  58.874752  6294.591584\n",
              "Very Good D      0.696424  58.041309  3470.467284\n",
              "          E      0.676317  58.038875  3214.652083\n",
              "          F      0.740961  57.848429  3778.820240\n",
              "          G      0.766799  57.784428  3872.753806\n",
              "          H      0.915948  57.903015  4535.390351\n",
              "          I      1.046952  58.105150  5255.879568\n",
              "          J      1.133215  58.277729  5103.513274"
            ]
          },
          "metadata": {
            "tags": []
          },
          "execution_count": 16
        }
      ]
    },
    {
      "cell_type": "markdown",
      "metadata": {
        "id": "QfP-RDfGucBu",
        "colab_type": "text"
      },
      "source": [
        "jawaban\n",
        "\n",
        "6294.591584\n",
        "\n",
        "0.915948"
      ]
    },
    {
      "cell_type": "markdown",
      "metadata": {
        "id": "GCsc5AJkucBv",
        "colab_type": "text"
      },
      "source": [
        "Expected Output : \n",
        "\n",
        "![image.png](attachment:image.png)"
      ]
    },
    {
      "cell_type": "markdown",
      "metadata": {
        "id": "AoqUrhMGucBw",
        "colab_type": "text"
      },
      "source": [
        "<h2>Quiz 4 : Group By Multiple Aggregate Base on Multiple Criteria</h2>\n",
        "    \n",
        "Lakukan groupby pada data berdasarkan kriteria cut(kualitas) dan color (warna) secara berurutan kemudian aggregasi objek group by nya dengan fungsi rata2 dan median.\n",
        "\n",
        "Kemudian Jawab Pertanyaan berikut :\n",
        "\n",
        "- Berapa nilai median dari harga diamond berkualitas good dan berwarna F"
      ]
    },
    {
      "cell_type": "code",
      "metadata": {
        "id": "SHREulFrucBw",
        "colab_type": "code",
        "colab": {
          "base_uri": "https://localhost:8080/",
          "height": 153
        },
        "outputId": "8fc7cd64-6de4-48ad-b1d0-f6f1ac710b46"
      },
      "source": [
        "grou = df.groupby(['cut','color']).mean().median()\n",
        "grou"
      ],
      "execution_count": null,
      "outputs": [
        {
          "output_type": "execute_result",
          "data": {
            "text/plain": [
              "carat       0.856607\n",
              "depth      61.841279\n",
              "table      58.679279\n",
              "price    4239.254777\n",
              "x           5.909063\n",
              "y           5.862824\n",
              "z           3.695270\n",
              "dtype: float64"
            ]
          },
          "metadata": {
            "tags": []
          },
          "execution_count": 23
        }
      ]
    },
    {
      "cell_type": "markdown",
      "metadata": {
        "id": "lLnJpZXIucBz",
        "colab_type": "text"
      },
      "source": [
        "2647.0"
      ]
    },
    {
      "cell_type": "markdown",
      "metadata": {
        "id": "2A6xV9caucB0",
        "colab_type": "text"
      },
      "source": [
        "Expected Output :\n",
        "\n",
        "Note : gambar hanya sebagaian dari keseluruhan data\n",
        "\n",
        "![image.png](attachment:image.png)"
      ]
    },
    {
      "cell_type": "markdown",
      "metadata": {
        "id": "0HdSNORGucB0",
        "colab_type": "text"
      },
      "source": [
        "<h2>Quiz 5 : Group By With Different Aggregation for specific Column</h2>\n",
        "    \n",
        "Lakukan groupby pada data berdasarkan criteria cut(kualitas), kemudian aggreagate dengan fungsi max pada column price dan fungsi min pada column carat.\n",
        "\n",
        "Kemudian Jawab Pertanyaan berikut :\n",
        "\n",
        "- Berapa nilai max dari price untuk diamond berkualitas Ideal"
      ]
    },
    {
      "cell_type": "markdown",
      "metadata": {
        "id": "BrX-yRhfucB1",
        "colab_type": "text"
      },
      "source": [
        "Expected Output :\n",
        "\n",
        "![image.png](attachment:image.png)"
      ]
    },
    {
      "cell_type": "code",
      "metadata": {
        "id": "Unm9O9asucB1",
        "colab_type": "code",
        "colab": {
          "base_uri": "https://localhost:8080/",
          "height": 238
        },
        "outputId": "50585b1d-8cce-47af-946f-950405b2120a"
      },
      "source": [
        "# code here\n",
        "group = [df.groupby(['cut'])['price'].max(),df.groupby(['cut'])['carat'].min()]\n",
        "group"
      ],
      "execution_count": null,
      "outputs": [
        {
          "output_type": "execute_result",
          "data": {
            "text/plain": [
              "[cut\n",
              " Fair         18574\n",
              " Good         18788\n",
              " Ideal        18806\n",
              " Premium      18823\n",
              " Very Good    18818\n",
              " Name: price, dtype: int64, cut\n",
              " Fair         0.22\n",
              " Good         0.23\n",
              " Ideal        0.20\n",
              " Premium      0.20\n",
              " Very Good    0.20\n",
              " Name: carat, dtype: float64]"
            ]
          },
          "metadata": {
            "tags": []
          },
          "execution_count": 31
        }
      ]
    },
    {
      "cell_type": "markdown",
      "metadata": {
        "id": "Hmvk0fHEucB4",
        "colab_type": "text"
      },
      "source": [
        "18806"
      ]
    },
    {
      "cell_type": "markdown",
      "metadata": {
        "id": "RcL41cL8ucB5",
        "colab_type": "text"
      },
      "source": [
        "<h2>Quiz 6 : Group By With Custom Function</h2>\n",
        "    \n",
        "Lakukan groupby pada data berdasarkan criteria cut(kualitas), kemudian lakukan aggregasi dengan fungsi standar deviasi pada column carat dan fungsi rentang nilai antara max dan min pada column price.\n",
        "\n",
        "Kemudian jawab pertanyaan berikut :\n",
        "- Berapa selisih harga tertinggi dan terendah dari diamond berkualitas Premium"
      ]
    },
    {
      "cell_type": "markdown",
      "metadata": {
        "id": "53TQ-ymRucB5",
        "colab_type": "text"
      },
      "source": [
        "Expected Output :\n",
        "\n",
        "![image.png](attachment:image.png)"
      ]
    },
    {
      "cell_type": "code",
      "metadata": {
        "id": "n_5-8DVXucB5",
        "colab_type": "code",
        "colab": {
          "base_uri": "https://localhost:8080/",
          "height": 238
        },
        "outputId": "7647ac5f-7e49-457a-fa4b-d0a5bbcef3de"
      },
      "source": [
        "groupi = [df.groupby(['cut'])['carat'].std(),df.groupby(['cut'])['price'].max()-df.groupby(['cut'])['price'].min()]\n",
        "groupi"
      ],
      "execution_count": null,
      "outputs": [
        {
          "output_type": "execute_result",
          "data": {
            "text/plain": [
              "[cut\n",
              " Fair         0.516404\n",
              " Good         0.454054\n",
              " Ideal        0.432876\n",
              " Premium      0.515262\n",
              " Very Good    0.459435\n",
              " Name: carat, dtype: float64, cut\n",
              " Fair         18237\n",
              " Good         18461\n",
              " Ideal        18480\n",
              " Premium      18497\n",
              " Very Good    18482\n",
              " Name: price, dtype: int64]"
            ]
          },
          "metadata": {
            "tags": []
          },
          "execution_count": 35
        }
      ]
    },
    {
      "cell_type": "markdown",
      "metadata": {
        "id": "gc5UubCoucB7",
        "colab_type": "text"
      },
      "source": [
        "jawaban\n",
        "\n",
        "18497"
      ]
    }
  ]
}