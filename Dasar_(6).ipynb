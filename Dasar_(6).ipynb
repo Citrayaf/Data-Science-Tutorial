{
  "nbformat": 4,
  "nbformat_minor": 0,
  "metadata": {
    "kernelspec": {
      "display_name": "Python 3",
      "language": "python",
      "name": "python3"
    },
    "language_info": {
      "codemirror_mode": {
        "name": "ipython",
        "version": 3
      },
      "file_extension": ".py",
      "mimetype": "text/x-python",
      "name": "python",
      "nbconvert_exporter": "python",
      "pygments_lexer": "ipython3",
      "version": "3.7.7"
    },
    "colab": {
      "name": "Dasar_(6).ipynb",
      "provenance": []
    }
  },
  "cells": [
    {
      "cell_type": "code",
      "metadata": {
        "id": "if4Y_KGwn29b",
        "colab_type": "code",
        "colab": {}
      },
      "source": [
        ""
      ],
      "execution_count": null,
      "outputs": []
    },
    {
      "cell_type": "markdown",
      "metadata": {
        "id": "--scWfRyn29g",
        "colab_type": "text"
      },
      "source": [
        "<h2>Quiz 1 : Membuat Objek DataFrames</h2>\n",
        "\n",
        "- Buatlah objek dataframes dari objek dictionary, Bebas!"
      ]
    },
    {
      "cell_type": "code",
      "metadata": {
        "id": "JuQ63S97n29h",
        "colab_type": "code",
        "colab": {
          "base_uri": "https://localhost:8080/",
          "height": 51
        },
        "outputId": "e9616c4d-0c9b-4c6c-9b1f-0e0928fb14c2"
      },
      "source": [
        "# Membuat dataframes dari dictionary\n",
        "import pandas as pd\n",
        "iki = {'satu':[14], \n",
        "       'dua':[18], \n",
        "       'tiga':[16], \n",
        "       'empat':[27], \n",
        "       'lima':[31]}\n",
        "pdd = pd.DataFrame(iki)\n",
        "print(pdd)"
      ],
      "execution_count": null,
      "outputs": [
        {
          "output_type": "stream",
          "text": [
            "   satu  dua  tiga  empat  lima\n",
            "0    14   18    16     27    31\n"
          ],
          "name": "stdout"
        }
      ]
    },
    {
      "cell_type": "markdown",
      "metadata": {
        "id": "HFu_Y3LTn29l",
        "colab_type": "text"
      },
      "source": [
        "<h2>Quiz 2 : Membaca data dari file</h2>\n",
        "\n",
        "Download file bernama diamonds.csv, kemudian baca data tersebut dan assign ke dalam suatu variabel kemudian print."
      ]
    },
    {
      "cell_type": "code",
      "metadata": {
        "id": "3XOWnij5n29m",
        "colab_type": "code",
        "colab": {
          "base_uri": "https://localhost:8080/",
          "height": 255
        },
        "outputId": "b74c4066-fcf2-44f9-b4aa-b5f7e9d77ecf"
      },
      "source": [
        "# Membaca data dan memasukannya kedalam suatu variabel\n",
        "a = pd.read_csv('diamonds-1.csv')\n",
        "print(a)"
      ],
      "execution_count": null,
      "outputs": [
        {
          "output_type": "stream",
          "text": [
            "       Unnamed: 0  carat        cut color  ... price     x     y     z\n",
            "0               1   0.23      Ideal     E  ...   326  3.95  3.98  2.43\n",
            "1               2   0.21    Premium     E  ...   326  3.89  3.84  2.31\n",
            "2               3   0.23       Good     E  ...   327  4.05  4.07  2.31\n",
            "3               4   0.29    Premium     I  ...   334  4.20  4.23  2.63\n",
            "4               5   0.31       Good     J  ...   335  4.34  4.35  2.75\n",
            "...           ...    ...        ...   ...  ...   ...   ...   ...   ...\n",
            "53935       53936   0.72      Ideal     D  ...  2757  5.75  5.76  3.50\n",
            "53936       53937   0.72       Good     D  ...  2757  5.69  5.75  3.61\n",
            "53937       53938   0.70  Very Good     D  ...  2757  5.66  5.68  3.56\n",
            "53938       53939   0.86    Premium     H  ...  2757  6.15  6.12  3.74\n",
            "53939       53940   0.75      Ideal     D  ...  2757  5.83  5.87  3.64\n",
            "\n",
            "[53940 rows x 11 columns]\n"
          ],
          "name": "stdout"
        }
      ]
    },
    {
      "cell_type": "markdown",
      "metadata": {
        "id": "UOvD-O6Wn29p",
        "colab_type": "text"
      },
      "source": [
        "Expected Result :\n",
        "\n",
        "![image.png](attachment:image.png)"
      ]
    },
    {
      "cell_type": "markdown",
      "metadata": {
        "id": "x_XnyMpZn29q",
        "colab_type": "text"
      },
      "source": [
        "<h2>Quiz 3 : DataFrame vs Series</h2>\n",
        "\n",
        "- Apa perbedaan Series dengan list dan dictionary\n",
        "- Apa perbedaan dataframe dan series\n",
        "- Buatlah suatu data series"
      ]
    },
    {
      "cell_type": "markdown",
      "metadata": {
        "id": "p78qoR79n29r",
        "colab_type": "text"
      },
      "source": [
        "-> Pada series memungkinkan index dapat diubah menjadi nilai atau char dalam bentuk lain, sedangkan pada list dan dictionary index tidak dapat diubah.\n",
        "\n",
        "-> Dataframe memiliki bentuk 2 dimensi sedangkan series hanya memiliki bentuk 1 dimensi saja."
      ]
    },
    {
      "cell_type": "code",
      "metadata": {
        "id": "uP9NgjGqn29r",
        "colab_type": "code",
        "colab": {
          "base_uri": "https://localhost:8080/",
          "height": 85
        },
        "outputId": "e87dd5ac-e558-4adc-ac25-ef6b0ff9cecf"
      },
      "source": [
        "z = pd.Series([1, 14, 1998])\n",
        "print(z)"
      ],
      "execution_count": null,
      "outputs": [
        {
          "output_type": "stream",
          "text": [
            "0       1\n",
            "1      14\n",
            "2    1998\n",
            "dtype: int64\n"
          ],
          "name": "stdout"
        }
      ]
    },
    {
      "cell_type": "markdown",
      "metadata": {
        "id": "Ikoh3K13n29u",
        "colab_type": "text"
      },
      "source": [
        "<h2>Quiz 4 : Pemeriksaan Data Sederhana</h2>\n",
        "\n",
        "Di quiz no 2 kamu telah membaca data tentang diamonds. pada soal ini cobalah suatu metode dari pandas untuk mengetahui beberapa data pertama dan beberapa data terakhir. kemudian sebutkan nilai dari :\n",
        "- baris pertama dari column price\n",
        "- baris terakhir dari column color\n",
        "\n",
        "tunjukan cara kalian menemukan nilai tersebut di block di bawah ini."
      ]
    },
    {
      "cell_type": "code",
      "metadata": {
        "id": "w0k50hyMn29v",
        "colab_type": "code",
        "colab": {
          "base_uri": "https://localhost:8080/",
          "height": 85
        },
        "outputId": "a0c046b0-680e-4c16-d470-949ffff8dcfd"
      },
      "source": [
        "a = pd.read_csv('diamonds-1.csv')\n",
        "print(a['price'].head(1))\n",
        "print(a['color'].tail(1))"
      ],
      "execution_count": null,
      "outputs": [
        {
          "output_type": "stream",
          "text": [
            "0    326\n",
            "Name: price, dtype: int64\n",
            "53939    D\n",
            "Name: color, dtype: object\n"
          ],
          "name": "stdout"
        }
      ]
    },
    {
      "cell_type": "markdown",
      "metadata": {
        "id": "npTMDVB3n29y",
        "colab_type": "text"
      },
      "source": [
        "<h2>Quiz 5 : Deskriptif Statistik</h2>\n",
        "\n",
        "Jelaskan apa itu deskriptis statistik!"
      ]
    },
    {
      "cell_type": "markdown",
      "metadata": {
        "id": "X8to8f1dn29z",
        "colab_type": "text"
      },
      "source": [
        "Deskriptif Statistik adalah bentuk penyajian data secara visual atau nilai secara ringkas dan rapi, sehingga memudahkan untuk mendapatkan informasi inti dari data yang disajikan. "
      ]
    },
    {
      "cell_type": "markdown",
      "metadata": {
        "id": "gYpX0Hkan290",
        "colab_type": "text"
      },
      "source": [
        "<h2>Quiz 6 : Practice Deskriptif Statistik</h2>\n",
        "\n",
        "- Gunakan suatu metode dari pandas untuk mengetahui deskriptif statistik dari suatu data\n",
        "- Berapa nilai rata-rata dari column price\n",
        "- Berapa nilai standar deviasi dari column depth\n",
        "- Berapa nilai maximum dari column carat"
      ]
    },
    {
      "cell_type": "code",
      "metadata": {
        "id": "e2KtxVPan290",
        "colab_type": "code",
        "colab": {
          "base_uri": "https://localhost:8080/",
          "height": 255
        },
        "outputId": "2f53007d-f096-4261-aa33-f634e85470ae"
      },
      "source": [
        "# code here\n",
        "a = pd.read_csv('diamonds-1.csv')\n",
        "print(a.describe())\n",
        "print(a['price'].mean())\n",
        "print(a['depth'].std())\n",
        "print(a['carat'].max())"
      ],
      "execution_count": null,
      "outputs": [
        {
          "output_type": "stream",
          "text": [
            "         Unnamed: 0         carat  ...             y             z\n",
            "count  53940.000000  53940.000000  ...  53940.000000  53940.000000\n",
            "mean   26970.500000      0.797940  ...      5.734526      3.538734\n",
            "std    15571.281097      0.474011  ...      1.142135      0.705699\n",
            "min        1.000000      0.200000  ...      0.000000      0.000000\n",
            "25%    13485.750000      0.400000  ...      4.720000      2.910000\n",
            "50%    26970.500000      0.700000  ...      5.710000      3.530000\n",
            "75%    40455.250000      1.040000  ...      6.540000      4.040000\n",
            "max    53940.000000      5.010000  ...     58.900000     31.800000\n",
            "\n",
            "[8 rows x 8 columns]\n",
            "3932.799721913237\n",
            "1.4326213188337733\n",
            "5.01\n"
          ],
          "name": "stdout"
        }
      ]
    },
    {
      "cell_type": "markdown",
      "metadata": {
        "id": "Isma68uWn294",
        "colab_type": "text"
      },
      "source": [
        ""
      ]
    }
  ]
}