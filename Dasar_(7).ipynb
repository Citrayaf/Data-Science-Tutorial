{
  "nbformat": 4,
  "nbformat_minor": 0,
  "metadata": {
    "kernelspec": {
      "display_name": "Python 3",
      "language": "python",
      "name": "python3"
    },
    "language_info": {
      "codemirror_mode": {
        "name": "ipython",
        "version": 3
      },
      "file_extension": ".py",
      "mimetype": "text/x-python",
      "name": "python",
      "nbconvert_exporter": "python",
      "pygments_lexer": "ipython3",
      "version": "3.7.7"
    },
    "colab": {
      "name": "Dasar_(7).ipynb",
      "provenance": []
    }
  },
  "cells": [
    {
      "cell_type": "code",
      "metadata": {
        "id": "rmG0BJt2koCy",
        "colab_type": "code",
        "colab": {
          "base_uri": "https://localhost:8080/",
          "height": 204
        },
        "outputId": "bbcf0634-7cdc-4259-c9a3-68157dea88b6"
      },
      "source": [
        "# Persiapan membuat data\n",
        "import pandas as pd\n",
        "import random\n",
        "\n",
        "pelajaran = ['Matematika', 'Fisika', 'Biologi', 'Kimia', 'Geologi', 'Ekonomi']\n",
        "kelas = ['12A', '12B', '12C', '12D']\n",
        "\n",
        "hasil_nilai = {\n",
        "    'siswa_id' : range(1, 21),\n",
        "    'pelajaran' : [random.choice(pelajaran) for i in range(20)],\n",
        "    'nilai' : [random.choice(range(0, 100)) for i in range(20)],\n",
        "    'jenis-kelamin' : [random.choice(['laki-laki', 'perempuan']) for i in range(20)],\n",
        "    'kelas' : [random.choice(kelas) for i in range(20)]\n",
        "}\n",
        "\n",
        "df = pd.DataFrame(hasil_nilai)\n",
        "df.head()"
      ],
      "execution_count": null,
      "outputs": [
        {
          "output_type": "execute_result",
          "data": {
            "text/html": [
              "<div>\n",
              "<style scoped>\n",
              "    .dataframe tbody tr th:only-of-type {\n",
              "        vertical-align: middle;\n",
              "    }\n",
              "\n",
              "    .dataframe tbody tr th {\n",
              "        vertical-align: top;\n",
              "    }\n",
              "\n",
              "    .dataframe thead th {\n",
              "        text-align: right;\n",
              "    }\n",
              "</style>\n",
              "<table border=\"1\" class=\"dataframe\">\n",
              "  <thead>\n",
              "    <tr style=\"text-align: right;\">\n",
              "      <th></th>\n",
              "      <th>siswa_id</th>\n",
              "      <th>pelajaran</th>\n",
              "      <th>nilai</th>\n",
              "      <th>jenis-kelamin</th>\n",
              "      <th>kelas</th>\n",
              "    </tr>\n",
              "  </thead>\n",
              "  <tbody>\n",
              "    <tr>\n",
              "      <th>0</th>\n",
              "      <td>1</td>\n",
              "      <td>Fisika</td>\n",
              "      <td>49</td>\n",
              "      <td>perempuan</td>\n",
              "      <td>12A</td>\n",
              "    </tr>\n",
              "    <tr>\n",
              "      <th>1</th>\n",
              "      <td>2</td>\n",
              "      <td>Matematika</td>\n",
              "      <td>4</td>\n",
              "      <td>laki-laki</td>\n",
              "      <td>12B</td>\n",
              "    </tr>\n",
              "    <tr>\n",
              "      <th>2</th>\n",
              "      <td>3</td>\n",
              "      <td>Matematika</td>\n",
              "      <td>70</td>\n",
              "      <td>laki-laki</td>\n",
              "      <td>12D</td>\n",
              "    </tr>\n",
              "    <tr>\n",
              "      <th>3</th>\n",
              "      <td>4</td>\n",
              "      <td>Matematika</td>\n",
              "      <td>99</td>\n",
              "      <td>laki-laki</td>\n",
              "      <td>12B</td>\n",
              "    </tr>\n",
              "    <tr>\n",
              "      <th>4</th>\n",
              "      <td>5</td>\n",
              "      <td>Matematika</td>\n",
              "      <td>57</td>\n",
              "      <td>perempuan</td>\n",
              "      <td>12D</td>\n",
              "    </tr>\n",
              "  </tbody>\n",
              "</table>\n",
              "</div>"
            ],
            "text/plain": [
              "   siswa_id   pelajaran  nilai jenis-kelamin kelas\n",
              "0         1      Fisika     49     perempuan   12A\n",
              "1         2  Matematika      4     laki-laki   12B\n",
              "2         3  Matematika     70     laki-laki   12D\n",
              "3         4  Matematika     99     laki-laki   12B\n",
              "4         5  Matematika     57     perempuan   12D"
            ]
          },
          "metadata": {
            "tags": []
          },
          "execution_count": 1
        }
      ]
    },
    {
      "cell_type": "markdown",
      "metadata": {
        "id": "DuIRcdlskoC5",
        "colab_type": "text"
      },
      "source": [
        "<h2>Quiz 1 : Indexing</h2>\n",
        "\n",
        "1. Lakukan indexing terhadap dataframe untuk mengakses column nilai dan kelas saja\n",
        "2. Lakukan indexing terhadap dataframe untuk mengakses row 5 sampai 10 beserta column pelajaran dan nilai"
      ]
    },
    {
      "cell_type": "code",
      "metadata": {
        "id": "kcKJfs0MkoC6",
        "colab_type": "code",
        "colab": {
          "base_uri": "https://localhost:8080/",
          "height": 493
        },
        "outputId": "256a0a8b-4bb7-44f7-d8a0-706ebc1cfcc3"
      },
      "source": [
        "# code here\n",
        "\n",
        "print(df[['nilai' , 'kelas']])\n",
        "\n",
        "print(df.loc[5:10,['nilai' , 'kelas']])"
      ],
      "execution_count": null,
      "outputs": [
        {
          "output_type": "stream",
          "text": [
            "    nilai kelas\n",
            "0      49   12A\n",
            "1       4   12B\n",
            "2      70   12D\n",
            "3      99   12B\n",
            "4      57   12D\n",
            "5      78   12A\n",
            "6      90   12D\n",
            "7      54   12B\n",
            "8      72   12C\n",
            "9      28   12C\n",
            "10      6   12B\n",
            "11     65   12A\n",
            "12      4   12A\n",
            "13     25   12B\n",
            "14     12   12B\n",
            "15     42   12D\n",
            "16     57   12A\n",
            "17     19   12A\n",
            "18     70   12D\n",
            "19     34   12C\n",
            "    nilai kelas\n",
            "5      78   12A\n",
            "6      90   12D\n",
            "7      54   12B\n",
            "8      72   12C\n",
            "9      28   12C\n",
            "10      6   12B\n"
          ],
          "name": "stdout"
        }
      ]
    },
    {
      "cell_type": "markdown",
      "metadata": {
        "id": "V934BUpLkoC-",
        "colab_type": "text"
      },
      "source": [
        "<h2>Quiz 2 : Filter DataFrame Dengan Boolean</h2>\n",
        "\n",
        "1. Tampilkan semua data siswa pada mata pelajaran Ekonomi dan Fisika\n",
        "2. Tampilkan semua data siswa yang mempunyai nilai lebih dari 50 di mata pelajaran Kimia \n",
        "3. Tampilkan semua data yang mempunyai nilai lebih dari 70, berjnis kelamin perempuan dan di kelas 12C"
      ]
    },
    {
      "cell_type": "code",
      "metadata": {
        "id": "RgO3a_sskoC_",
        "colab_type": "code",
        "colab": {
          "base_uri": "https://localhost:8080/",
          "height": 187
        },
        "outputId": "8f68db0a-7539-48b7-97f6-3e4030289d21"
      },
      "source": [
        "# code here\n",
        "eko = df.pelajaran == 'Ekonomi'\n",
        "fis = df.pelajaran == 'Fisika'\n",
        "\n",
        "print(df[(eko) | (fis)])\n",
        "\n",
        "nil5 = df.nilai > 50\n",
        "kim = df.pelajaran == 'Kimia'\n",
        "\n",
        "print(df[(kim) & (nil5)])\n",
        "\n",
        "nil7 = df.nilai > 70 \n",
        "kelas = df.kelas == '12C'\n",
        "perem = df['jenis-kelamin'] == 'perempuan'\n",
        "\n",
        "print(df[(nil7) & (kelas) & (perem)])"
      ],
      "execution_count": null,
      "outputs": [
        {
          "output_type": "stream",
          "text": [
            "    siswa_id pelajaran  nilai jenis-kelamin kelas\n",
            "0          1    Fisika     49     perempuan   12A\n",
            "7          8   Ekonomi     54     perempuan   12B\n",
            "9         10    Fisika     28     perempuan   12C\n",
            "15        16    Fisika     42     laki-laki   12D\n",
            "    siswa_id pelajaran  nilai jenis-kelamin kelas\n",
            "8          9     Kimia     72     perempuan   12C\n",
            "18        19     Kimia     70     perempuan   12D\n",
            "   siswa_id pelajaran  nilai jenis-kelamin kelas\n",
            "8         9     Kimia     72     perempuan   12C\n"
          ],
          "name": "stdout"
        }
      ]
    },
    {
      "cell_type": "markdown",
      "metadata": {
        "id": "2LfkSNWXkoDC",
        "colab_type": "text"
      },
      "source": [
        "<h2>Quiz 3 : Data Transformation</h2>\n",
        "\n",
        "lakukan data transformasi terhadap column 'nilai' dengan fungsi transformasi, berikut rumus dari normalisasi\n",
        "\n",
        "![image.png](attachment:image.png)"
      ]
    },
    {
      "cell_type": "code",
      "metadata": {
        "id": "e_hh5BeTkoDD",
        "colab_type": "code",
        "colab": {
          "base_uri": "https://localhost:8080/",
          "height": 374
        },
        "outputId": "a802b69e-a394-4d3f-ce56-2db9f83b2edc"
      },
      "source": [
        "# code here\n",
        "def normalisasi(masuk):\n",
        "  return (masuk-masuk.min())/(masuk.max()-masuk.min())\n",
        "\n",
        "print(df[['nilai']].apply(normalisasi))"
      ],
      "execution_count": null,
      "outputs": [
        {
          "output_type": "stream",
          "text": [
            "       nilai\n",
            "0   0.473684\n",
            "1   0.000000\n",
            "2   0.694737\n",
            "3   1.000000\n",
            "4   0.557895\n",
            "5   0.778947\n",
            "6   0.905263\n",
            "7   0.526316\n",
            "8   0.715789\n",
            "9   0.252632\n",
            "10  0.021053\n",
            "11  0.642105\n",
            "12  0.000000\n",
            "13  0.221053\n",
            "14  0.084211\n",
            "15  0.400000\n",
            "16  0.557895\n",
            "17  0.157895\n",
            "18  0.694737\n",
            "19  0.315789\n"
          ],
          "name": "stdout"
        }
      ]
    }
  ]
}