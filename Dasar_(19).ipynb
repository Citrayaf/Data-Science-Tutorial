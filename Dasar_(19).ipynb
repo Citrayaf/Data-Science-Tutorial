{
  "nbformat": 4,
  "nbformat_minor": 0,
  "metadata": {
    "kernelspec": {
      "display_name": "Python 3",
      "language": "python",
      "name": "python3"
    },
    "language_info": {
      "codemirror_mode": {
        "name": "ipython",
        "version": 3
      },
      "file_extension": ".py",
      "mimetype": "text/x-python",
      "name": "python",
      "nbconvert_exporter": "python",
      "pygments_lexer": "ipython3",
      "version": "3.7.6"
    },
    "colab": {
      "name": "Dasar_(19).ipynb",
      "provenance": [],
      "collapsed_sections": []
    },
    "accelerator": "GPU"
  },
  "cells": [
    {
      "cell_type": "markdown",
      "metadata": {
        "id": "2e8eB40W0Twc",
        "colab_type": "text"
      },
      "source": [
        "<h1> Quiz 1 Pemahaman tentang Model Selection</h1>\n",
        "\n",
        "Jelaskan dengan bahasa kalian sendiri\n",
        "\n",
        "1. Apa itu Bias dan Variance?\n",
        "2. Apa itu Overfitting dan Underfitting?\n",
        "3. Apa yang bisa kita lakukan untuk mengatur kompleksitas dari model?\n",
        "4. Bagaimana model yang baik?\n",
        "5. Kapan kira2 kita menggunakan GridSearchcv dan kapan menggunakan RandomizedSearchCV?"
      ]
    },
    {
      "cell_type": "markdown",
      "metadata": {
        "id": "YN4_1Ubg0pRV",
        "colab_type": "text"
      },
      "source": [
        "Jawab:\n",
        "1. Bias merupakan salah satu reducible error yang diakibatkan oleh model yang terlalu sederhana, sedangkan variance diakibatkan oleh model yang terlalu kompleks.\n",
        "2. Overfitting terjadi ketika proses training menyebabkan model terlalu fit dengan data training, sedangkan undefitting model tidak memiliki kesamaan dengan data training.\n",
        "3. dengan mengubah hyperparameter dari model.\n",
        "4. Model yg baik adalah model yg memiliki training akurasi tinggi dan validasi akurasi yang tinggi.\n",
        "5. GridSearchCV untuk mengetahui semua kombinasi yang dari parameter yang diberikan, sedangkan RandomizedSearchCV mencoba beberapa kombinasi dari parameter secara random."
      ]
    },
    {
      "cell_type": "markdown",
      "metadata": {
        "id": "MPqQg2U30Twd",
        "colab_type": "text"
      },
      "source": [
        "<h1> Quiz 2 Praktis Model Selection</h1>\n",
        "\n",
        "1. Bagi kedua data ini menjadi data training dan data test dengan test_size=0.25.\n",
        "2. Gunakan algoritma KNN sebagai model classifier.\n",
        "3. Gunakan fungsi GridSearchCV untuk hyperparameter tuning dan model selection.\n",
        "4. jumlah fold bebas!, gunakan scoring 'roc_auc'\n",
        "5. Definisikan kombinasi hyperparameter untuk model selection dengan GridSearchCV. kombinasi Hyperparameter bebas, baca lagi dokumentasi KNN di link berikut https://scikit-learn.org/stable/modules/generated/sklearn.neighbors.KNeighborsClassifier.html untuk memahami lagi jenis2 hyperparameter di algorithma KNN.\n",
        "6. Latih model terhadap data training.\n",
        "7. Apa hyperparameter terbaik untuk kombinasi hyperparameter kalian?\n",
        "8. Berapa score validasi terbaik dari model tersebut?\n",
        "9. Prediksi probabilitasi output dari model yang telah di buat terhadap data test. note : gunakan method .predict_proba() untuk menghasilkan output probabilitas\n",
        "10. Perhatikan bahwa hasil prediksi ada 2, dimana masing2 adalah nilai probabilitas untuk setiap class label. Ambil nilai probabilitas pasien phositive meninggal dalam waktu kurang dari 5 tahun. note : gunakan bantuan attirubte .classes_ untuk mengetahui urutan label dari hasil prediksi probabilitas.\n",
        "11. Berapa nilai score roc_auc untuk data test?\n",
        "12. Apakah model anda termasuk baik atau overtting atau underfitting?\n",
        "13. Ulangi tahap di atas namun kali ini menggunakan algoritma DecisionTreeClassifier dan kalian bisa menggunakan RandomizedSearchCV apabila process training lama. pelajari algoritma DecisionTreeClassifier di linkberikut : https://scikit-learn.org/stable/modules/generated/sklearn.tree.DecisionTreeClassifier.html?highlight=decisiontreeclassifier#sklearn.tree.DecisionTreeClassifier\n",
        "14. Bandingkan scorenya dengan Algoritma KNN, mana yang lebih baik?\n",
        "\n",
        "Note : Data Science adalah experiment, sangat di dimungkinkan memerlukan beberapa kali percobaan untuk mendapatkan hasil yang terbaik! Happy Coding :)"
      ]
    },
    {
      "cell_type": "code",
      "metadata": {
        "id": "YNp2O-hQ0Twe",
        "colab_type": "code",
        "colab": {}
      },
      "source": [
        "import pandas as pd\n",
        "\n",
        "url = 'https://raw.githubusercontent.com/jbrownlee/Datasets/master/haberman.csv'\n",
        "list_cols = ['Age', \"Patient's Years\", \"N_positive_ax\", \"survival_status\"]\n",
        "df = pd.read_csv(url, names=list_cols)"
      ],
      "execution_count": null,
      "outputs": []
    },
    {
      "cell_type": "code",
      "metadata": {
        "id": "Vo34DzDl0Twj",
        "colab_type": "code",
        "colab": {
          "base_uri": "https://localhost:8080/",
          "height": 204
        },
        "outputId": "9ba91739-3abc-45b1-aae6-5f6a122439bc"
      },
      "source": [
        "df.head()"
      ],
      "execution_count": null,
      "outputs": [
        {
          "output_type": "execute_result",
          "data": {
            "text/html": [
              "<div>\n",
              "<style scoped>\n",
              "    .dataframe tbody tr th:only-of-type {\n",
              "        vertical-align: middle;\n",
              "    }\n",
              "\n",
              "    .dataframe tbody tr th {\n",
              "        vertical-align: top;\n",
              "    }\n",
              "\n",
              "    .dataframe thead th {\n",
              "        text-align: right;\n",
              "    }\n",
              "</style>\n",
              "<table border=\"1\" class=\"dataframe\">\n",
              "  <thead>\n",
              "    <tr style=\"text-align: right;\">\n",
              "      <th></th>\n",
              "      <th>Age</th>\n",
              "      <th>Patient's Years</th>\n",
              "      <th>N_positive_ax</th>\n",
              "      <th>survival_status</th>\n",
              "    </tr>\n",
              "  </thead>\n",
              "  <tbody>\n",
              "    <tr>\n",
              "      <th>0</th>\n",
              "      <td>30</td>\n",
              "      <td>64</td>\n",
              "      <td>1</td>\n",
              "      <td>1</td>\n",
              "    </tr>\n",
              "    <tr>\n",
              "      <th>1</th>\n",
              "      <td>30</td>\n",
              "      <td>62</td>\n",
              "      <td>3</td>\n",
              "      <td>1</td>\n",
              "    </tr>\n",
              "    <tr>\n",
              "      <th>2</th>\n",
              "      <td>30</td>\n",
              "      <td>65</td>\n",
              "      <td>0</td>\n",
              "      <td>1</td>\n",
              "    </tr>\n",
              "    <tr>\n",
              "      <th>3</th>\n",
              "      <td>31</td>\n",
              "      <td>59</td>\n",
              "      <td>2</td>\n",
              "      <td>1</td>\n",
              "    </tr>\n",
              "    <tr>\n",
              "      <th>4</th>\n",
              "      <td>31</td>\n",
              "      <td>65</td>\n",
              "      <td>4</td>\n",
              "      <td>1</td>\n",
              "    </tr>\n",
              "  </tbody>\n",
              "</table>\n",
              "</div>"
            ],
            "text/plain": [
              "   Age  Patient's Years  N_positive_ax  survival_status\n",
              "0   30               64              1                1\n",
              "1   30               62              3                1\n",
              "2   30               65              0                1\n",
              "3   31               59              2                1\n",
              "4   31               65              4                1"
            ]
          },
          "metadata": {
            "tags": []
          },
          "execution_count": 4
        }
      ]
    },
    {
      "cell_type": "code",
      "metadata": {
        "id": "jrMW2e2e8MXx",
        "colab_type": "code",
        "colab": {}
      },
      "source": [
        "x = df.drop('survival_status',axis = 1)\n",
        "y = df['survival_status']"
      ],
      "execution_count": null,
      "outputs": []
    },
    {
      "cell_type": "code",
      "metadata": {
        "id": "XBLZ3vhP8yyx",
        "colab_type": "code",
        "colab": {
          "base_uri": "https://localhost:8080/",
          "height": 275
        },
        "outputId": "c7f7af15-219f-4a3a-f368-f6e43b701a57"
      },
      "source": [
        "from sklearn.model_selection import train_test_split,cross_val_score,GridSearchCV, RandomizedSearchCV\n",
        "from sklearn.neighbors import KNeighborsClassifier\n",
        "import numpy as np\n",
        "\n",
        "x_train, x_test, y_train, y_test = train_test_split(x, y, test_size=0.25, random_state=14)\n",
        "modell = KNeighborsClassifier()\n",
        "parameter = {'n_neighbors' : np.arange(3,71), 'weights' : ['distance', 'uniform'] }\n",
        "gg = GridSearchCV(modell, param_grid=parameter, scoring = 'roc_auc', cv = 7)\n",
        "gg.fit(x_train,y_train)\n"
      ],
      "execution_count": null,
      "outputs": [
        {
          "output_type": "execute_result",
          "data": {
            "text/plain": [
              "GridSearchCV(cv=7, error_score=nan,\n",
              "             estimator=KNeighborsClassifier(algorithm='auto', leaf_size=30,\n",
              "                                            metric='minkowski',\n",
              "                                            metric_params=None, n_jobs=None,\n",
              "                                            n_neighbors=5, p=2,\n",
              "                                            weights='uniform'),\n",
              "             iid='deprecated', n_jobs=None,\n",
              "             param_grid={'n_neighbors': array([ 3,  4,  5,  6,  7,  8,  9, 10, 11, 12, 13, 14, 15, 16, 17, 18, 19,\n",
              "       20, 21, 22, 23, 24, 25, 26, 27, 28, 29, 30, 31, 32, 33, 34, 35, 36,\n",
              "       37, 38, 39, 40, 41, 42, 43, 44, 45, 46, 47, 48, 49, 50, 51, 52, 53,\n",
              "       54, 55, 56, 57, 58, 59, 60, 61, 62, 63, 64, 65, 66, 67, 68, 69, 70]),\n",
              "                         'weights': ['distance', 'uniform']},\n",
              "             pre_dispatch='2*n_jobs', refit=True, return_train_score=False,\n",
              "             scoring='roc_auc', verbose=0)"
            ]
          },
          "metadata": {
            "tags": []
          },
          "execution_count": 28
        }
      ]
    },
    {
      "cell_type": "code",
      "metadata": {
        "id": "n6pKClMRoaN1",
        "colab_type": "code",
        "colab": {
          "base_uri": "https://localhost:8080/",
          "height": 191
        },
        "outputId": "8f12ef58-1a0b-42e9-94c3-693e33001f43"
      },
      "source": [
        ""
      ],
      "execution_count": null,
      "outputs": [
        {
          "output_type": "error",
          "ename": "TypeError",
          "evalue": "ignored",
          "traceback": [
            "\u001b[0;31m---------------------------------------------------------------------------\u001b[0m",
            "\u001b[0;31mTypeError\u001b[0m                                 Traceback (most recent call last)",
            "\u001b[0;32m<ipython-input-3-17332ce287b5>\u001b[0m in \u001b[0;36m<module>\u001b[0;34m()\u001b[0m\n\u001b[1;32m      1\u001b[0m \u001b[0ma\u001b[0m\u001b[0;34m=\u001b[0m\u001b[0;34m[\u001b[0m\u001b[0;36m3\u001b[0m\u001b[0;34m,\u001b[0m\u001b[0;36m4\u001b[0m\u001b[0;34m,\u001b[0m\u001b[0;36m5\u001b[0m\u001b[0;34m,\u001b[0m\u001b[0;36m6\u001b[0m\u001b[0;34m]\u001b[0m\u001b[0;34m\u001b[0m\u001b[0;34m\u001b[0m\u001b[0m\n\u001b[0;32m----> 2\u001b[0;31m \u001b[0ma\u001b[0m\u001b[0;34m[\u001b[0m\u001b[0;36m0\u001b[0m\u001b[0;34m,\u001b[0m\u001b[0;36m2\u001b[0m\u001b[0;34m]\u001b[0m\u001b[0;34m\u001b[0m\u001b[0;34m\u001b[0m\u001b[0m\n\u001b[0m",
            "\u001b[0;31mTypeError\u001b[0m: list indices must be integers or slices, not tuple"
          ]
        }
      ]
    },
    {
      "cell_type": "code",
      "metadata": {
        "id": "EcXgk8Vu_FxN",
        "colab_type": "code",
        "colab": {
          "base_uri": "https://localhost:8080/",
          "height": 34
        },
        "outputId": "cfc4b613-0f15-4f30-918d-b1e26f30ac7f"
      },
      "source": [
        "gg.best_params_"
      ],
      "execution_count": null,
      "outputs": [
        {
          "output_type": "execute_result",
          "data": {
            "text/plain": [
              "{'n_neighbors': 24, 'weights': 'uniform'}"
            ]
          },
          "metadata": {
            "tags": []
          },
          "execution_count": 22
        }
      ]
    },
    {
      "cell_type": "code",
      "metadata": {
        "id": "0Sty_KDI_WWk",
        "colab_type": "code",
        "colab": {
          "base_uri": "https://localhost:8080/",
          "height": 34
        },
        "outputId": "c71d5d0c-a020-460c-8215-a7f1c567efbe"
      },
      "source": [
        "gg.best_score_"
      ],
      "execution_count": null,
      "outputs": [
        {
          "output_type": "execute_result",
          "data": {
            "text/plain": [
              "0.6705985449735449"
            ]
          },
          "metadata": {
            "tags": []
          },
          "execution_count": 23
        }
      ]
    },
    {
      "cell_type": "code",
      "metadata": {
        "id": "kbtVRphv_f5k",
        "colab_type": "code",
        "colab": {
          "base_uri": "https://localhost:8080/",
          "height": 1000
        },
        "outputId": "43dfe390-1376-4b0f-ddec-90809ec2bc32"
      },
      "source": [
        "modell = KNeighborsClassifier(n_neighbors = 24, weights ='uniform')\n",
        "modell.fit(x_train,y_train)\n",
        "y_pred = modell.predict_proba(x_test)\n",
        "y_pred"
      ],
      "execution_count": null,
      "outputs": [
        {
          "output_type": "execute_result",
          "data": {
            "text/plain": [
              "array([[0.75      , 0.25      ],\n",
              "       [0.83333333, 0.16666667],\n",
              "       [0.83333333, 0.16666667],\n",
              "       [0.375     , 0.625     ],\n",
              "       [0.79166667, 0.20833333],\n",
              "       [0.95833333, 0.04166667],\n",
              "       [0.875     , 0.125     ],\n",
              "       [0.875     , 0.125     ],\n",
              "       [0.66666667, 0.33333333],\n",
              "       [0.875     , 0.125     ],\n",
              "       [0.875     , 0.125     ],\n",
              "       [0.83333333, 0.16666667],\n",
              "       [0.875     , 0.125     ],\n",
              "       [0.41666667, 0.58333333],\n",
              "       [0.875     , 0.125     ],\n",
              "       [0.75      , 0.25      ],\n",
              "       [0.375     , 0.625     ],\n",
              "       [0.79166667, 0.20833333],\n",
              "       [0.79166667, 0.20833333],\n",
              "       [0.83333333, 0.16666667],\n",
              "       [0.95833333, 0.04166667],\n",
              "       [0.5       , 0.5       ],\n",
              "       [0.79166667, 0.20833333],\n",
              "       [0.95833333, 0.04166667],\n",
              "       [0.875     , 0.125     ],\n",
              "       [0.5       , 0.5       ],\n",
              "       [0.45833333, 0.54166667],\n",
              "       [0.79166667, 0.20833333],\n",
              "       [0.375     , 0.625     ],\n",
              "       [0.5       , 0.5       ],\n",
              "       [0.83333333, 0.16666667],\n",
              "       [0.83333333, 0.16666667],\n",
              "       [0.70833333, 0.29166667],\n",
              "       [0.875     , 0.125     ],\n",
              "       [0.79166667, 0.20833333],\n",
              "       [0.95833333, 0.04166667],\n",
              "       [0.41666667, 0.58333333],\n",
              "       [0.91666667, 0.08333333],\n",
              "       [0.70833333, 0.29166667],\n",
              "       [0.875     , 0.125     ],\n",
              "       [0.79166667, 0.20833333],\n",
              "       [0.41666667, 0.58333333],\n",
              "       [0.83333333, 0.16666667],\n",
              "       [0.95833333, 0.04166667],\n",
              "       [0.95833333, 0.04166667],\n",
              "       [0.70833333, 0.29166667],\n",
              "       [0.54166667, 0.45833333],\n",
              "       [0.70833333, 0.29166667],\n",
              "       [0.83333333, 0.16666667],\n",
              "       [0.41666667, 0.58333333],\n",
              "       [0.83333333, 0.16666667],\n",
              "       [0.95833333, 0.04166667],\n",
              "       [0.79166667, 0.20833333],\n",
              "       [0.83333333, 0.16666667],\n",
              "       [0.875     , 0.125     ],\n",
              "       [0.95833333, 0.04166667],\n",
              "       [0.375     , 0.625     ],\n",
              "       [0.75      , 0.25      ],\n",
              "       [0.33333333, 0.66666667],\n",
              "       [0.83333333, 0.16666667],\n",
              "       [0.79166667, 0.20833333],\n",
              "       [0.79166667, 0.20833333],\n",
              "       [0.91666667, 0.08333333],\n",
              "       [0.58333333, 0.41666667],\n",
              "       [0.83333333, 0.16666667],\n",
              "       [0.41666667, 0.58333333],\n",
              "       [0.70833333, 0.29166667],\n",
              "       [0.875     , 0.125     ],\n",
              "       [0.875     , 0.125     ],\n",
              "       [0.95833333, 0.04166667],\n",
              "       [0.875     , 0.125     ],\n",
              "       [0.79166667, 0.20833333],\n",
              "       [0.75      , 0.25      ],\n",
              "       [0.83333333, 0.16666667],\n",
              "       [0.95833333, 0.04166667],\n",
              "       [0.91666667, 0.08333333],\n",
              "       [0.5       , 0.5       ]])"
            ]
          },
          "metadata": {
            "tags": []
          },
          "execution_count": 25
        }
      ]
    },
    {
      "cell_type": "code",
      "metadata": {
        "id": "T6iyLTbIA_Fe",
        "colab_type": "code",
        "colab": {
          "base_uri": "https://localhost:8080/",
          "height": 34
        },
        "outputId": "fec5562f-7cc8-4056-f0db-c57fb367d383"
      },
      "source": [
        "modell.classes_"
      ],
      "execution_count": null,
      "outputs": [
        {
          "output_type": "execute_result",
          "data": {
            "text/plain": [
              "array([1, 2])"
            ]
          },
          "metadata": {
            "tags": []
          },
          "execution_count": 19
        }
      ]
    },
    {
      "cell_type": "code",
      "metadata": {
        "id": "fBB-FBIyBKB6",
        "colab_type": "code",
        "colab": {
          "base_uri": "https://localhost:8080/",
          "height": 34
        },
        "outputId": "db2d78db-26b4-4cbf-838a-e0384cbcbf6e"
      },
      "source": [
        "hasil = cross_val_score(modell, x_test, y_test, cv = 14, scoring='roc_auc')\n",
        "hasil.mean()"
      ],
      "execution_count": null,
      "outputs": [
        {
          "output_type": "execute_result",
          "data": {
            "text/plain": [
              "0.5461309523809523"
            ]
          },
          "metadata": {
            "tags": []
          },
          "execution_count": 27
        }
      ]
    },
    {
      "cell_type": "markdown",
      "metadata": {
        "id": "q1_wNNamBuqu",
        "colab_type": "text"
      },
      "source": [
        "Sedikit Overfitting"
      ]
    },
    {
      "cell_type": "code",
      "metadata": {
        "id": "cP_Na6lVCLjl",
        "colab_type": "code",
        "colab": {
          "base_uri": "https://localhost:8080/",
          "height": 428
        },
        "outputId": "104c8e90-4640-4fb9-ae45-236da21eeac4"
      },
      "source": [
        "from sklearn.tree import DecisionTreeClassifier\n",
        "moddl = DecisionTreeClassifier()\n",
        "paramms = {'criterion' : [\"gini\", \"entropy\"],'splitter' : [\"best\", \"random\"],'max_depth' : np.arange(24,100),'min_samples_split' : np.arange(1,50), 'min_samples_leaf': np.arange(1,50), 'max_leaf_nodes' : np.arange(50,100)}\n",
        "rsv = RandomizedSearchCV(moddl,paramms, scoring = 'roc_auc', cv = 7 )\n",
        "rsv.fit(x_train,y_train)"
      ],
      "execution_count": null,
      "outputs": [
        {
          "output_type": "execute_result",
          "data": {
            "text/plain": [
              "RandomizedSearchCV(cv=7, error_score=nan,\n",
              "                   estimator=DecisionTreeClassifier(ccp_alpha=0.0,\n",
              "                                                    class_weight=None,\n",
              "                                                    criterion='gini',\n",
              "                                                    max_depth=None,\n",
              "                                                    max_features=None,\n",
              "                                                    max_leaf_nodes=None,\n",
              "                                                    min_impurity_decrease=0.0,\n",
              "                                                    min_impurity_split=None,\n",
              "                                                    min_samples_leaf=1,\n",
              "                                                    min_samples_split=2,\n",
              "                                                    min_weight_fraction_leaf=0.0,\n",
              "                                                    presort='deprecated',\n",
              "                                                    random_state=None,\n",
              "                                                    splitter='best'),\n",
              "                   i...\n",
              "       35, 36, 37, 38, 39, 40, 41, 42, 43, 44, 45, 46, 47, 48, 49]),\n",
              "                                        'min_samples_split': array([ 1,  2,  3,  4,  5,  6,  7,  8,  9, 10, 11, 12, 13, 14, 15, 16, 17,\n",
              "       18, 19, 20, 21, 22, 23, 24, 25, 26, 27, 28, 29, 30, 31, 32, 33, 34,\n",
              "       35, 36, 37, 38, 39, 40, 41, 42, 43, 44, 45, 46, 47, 48, 49]),\n",
              "                                        'splitter': ['best', 'random']},\n",
              "                   pre_dispatch='2*n_jobs', random_state=None, refit=True,\n",
              "                   return_train_score=False, scoring='roc_auc', verbose=0)"
            ]
          },
          "metadata": {
            "tags": []
          },
          "execution_count": 37
        }
      ]
    },
    {
      "cell_type": "code",
      "metadata": {
        "id": "8zuspwzcFRff",
        "colab_type": "code",
        "colab": {
          "base_uri": "https://localhost:8080/",
          "height": 119
        },
        "outputId": "2f07f3df-e30a-4d31-a96c-6f5fead4b1cb"
      },
      "source": [
        "rsv.best_params_"
      ],
      "execution_count": null,
      "outputs": [
        {
          "output_type": "execute_result",
          "data": {
            "text/plain": [
              "{'criterion': 'entropy',\n",
              " 'max_depth': 45,\n",
              " 'max_leaf_nodes': 89,\n",
              " 'min_samples_leaf': 1,\n",
              " 'min_samples_split': 47,\n",
              " 'splitter': 'random'}"
            ]
          },
          "metadata": {
            "tags": []
          },
          "execution_count": 39
        }
      ]
    },
    {
      "cell_type": "code",
      "metadata": {
        "id": "eByIiOL6FT36",
        "colab_type": "code",
        "colab": {
          "base_uri": "https://localhost:8080/",
          "height": 34
        },
        "outputId": "8aec6091-0de9-404e-a400-6a175c5c3c9b"
      },
      "source": [
        "rsv.best_score_"
      ],
      "execution_count": null,
      "outputs": [
        {
          "output_type": "execute_result",
          "data": {
            "text/plain": [
              "0.7317873677248677"
            ]
          },
          "metadata": {
            "tags": []
          },
          "execution_count": 40
        }
      ]
    },
    {
      "cell_type": "markdown",
      "metadata": {
        "id": "7RNpi7RTFcUA",
        "colab_type": "text"
      },
      "source": [
        "DecisionTree lebih baik daripada KNN dengan beda score sebanyak 0.1"
      ]
    }
  ]
}