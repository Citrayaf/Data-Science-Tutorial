{
  "nbformat": 4,
  "nbformat_minor": 0,
  "metadata": {
    "kernelspec": {
      "display_name": "Python 3",
      "language": "python",
      "name": "python3"
    },
    "language_info": {
      "codemirror_mode": {
        "name": "ipython",
        "version": 3
      },
      "file_extension": ".py",
      "mimetype": "text/x-python",
      "name": "python",
      "nbconvert_exporter": "python",
      "pygments_lexer": "ipython3",
      "version": "3.7.7"
    },
    "colab": {
      "name": "Dasar_(2).ipynb",
      "provenance": [],
      "collapsed_sections": []
    }
  },
  "cells": [
    {
      "cell_type": "markdown",
      "metadata": {
        "id": "I6jmLA-RYrt5",
        "colab_type": "text"
      },
      "source": [
        "<h2>Soal 1 : Helper Function</h2>\n",
        "\n",
        "Jawab Pertanyaan di bawah ini :\n",
        "\n",
        "Misalkan kamu ingin mengetahui tentang kegunaan fungsi 'len' di Python, maka fungsi apa yang bisa kamu gunakan untuk menolong kamu?"
      ]
    },
    {
      "cell_type": "code",
      "metadata": {
        "id": "VrvyQxGJYrt9",
        "colab_type": "code",
        "colab": {
          "base_uri": "https://localhost:8080/",
          "height": 102
        },
        "outputId": "c0899f08-5382-4a55-ea9d-eff109ee885d"
      },
      "source": [
        "# lengkapi code ini\n",
        "help(len)"
      ],
      "execution_count": null,
      "outputs": [
        {
          "output_type": "stream",
          "text": [
            "Help on built-in function len in module builtins:\n",
            "\n",
            "len(obj, /)\n",
            "    Return the number of items in a container.\n",
            "\n"
          ],
          "name": "stdout"
        }
      ]
    },
    {
      "cell_type": "markdown",
      "metadata": {
        "id": "KrcuFTuAYruT",
        "colab_type": "text"
      },
      "source": [
        "<h2>Soal 2 : Built-in Function</h2>\n",
        "\n",
        "Jawab Pertanyaan di bawah ini :\n",
        "    \n",
        "Apa itu built-in Function?\n",
        "\n",
        "Sebutkan 3 built-in Function di pyhon!\n",
        "\n",
        "Berikan contoh masing2 1 cara penggunaan built-in function yang kamu sebutkan sebelumnya"
      ]
    },
    {
      "cell_type": "markdown",
      "metadata": {
        "id": "xro-58_CYruW",
        "colab_type": "text"
      },
      "source": [
        "//isi jawaban text disini\n"
      ]
    },
    {
      "cell_type": "code",
      "metadata": {
        "id": "Xv7lHkgfYruY",
        "colab_type": "code",
        "colab": {
          "base_uri": "https://localhost:8080/",
          "height": 68
        },
        "outputId": "11c22063-a747-47e9-9055-d0bb7967cf90"
      },
      "source": [
        "a=[2, 7, 20, 14, 12]\n",
        "print('untuk mengetahui panjang list %d' % len(a))\n",
        "print('untuk mengetahui jumlah nilai list %d' % sum(a))\n",
        "print(\"untuk mengetahui nilai terbesar dari list %d\" % max(a))\n"
      ],
      "execution_count": null,
      "outputs": [
        {
          "output_type": "stream",
          "text": [
            "untuk mengetahui panjang list 5\n",
            "untuk mengetahui jumlah nilai list 55\n",
            "untuk mengetahui nilai terbesar dari list 20\n"
          ],
          "name": "stdout"
        }
      ]
    },
    {
      "cell_type": "markdown",
      "metadata": {
        "id": "yhWXiPNDYrul",
        "colab_type": "text"
      },
      "source": [
        "<h2>Soal 3 : Method dan Function</h2>\n",
        "\n",
        "Jawab Pertanyaan di bawah ini :\n",
        "    \n",
        "- Apa perbedaan method dan function?"
      ]
    },
    {
      "cell_type": "markdown",
      "metadata": {
        "id": "rqpTJlgDYrun",
        "colab_type": "text"
      },
      "source": [
        "Fungsi dapat kita buat sendiri atau menggunakan bawaan dari library python, sedangkan untuk method dimiliki untuk per object yang setiap objek memiliki method yang berbeda."
      ]
    },
    {
      "cell_type": "markdown",
      "metadata": {
        "id": "tUU1xgYBYrup",
        "colab_type": "text"
      },
      "source": [
        "<h2>Soal 4 : Menggunkan Method String</h2>\n",
        "\n",
        "Lengkapi kode untuk menghasilkan suatu output yang di harapkan"
      ]
    },
    {
      "cell_type": "code",
      "metadata": {
        "id": "037gauOGYrur",
        "colab_type": "code",
        "colab": {
          "base_uri": "https://localhost:8080/",
          "height": 51
        },
        "outputId": "a8859d1d-019b-4b46-9dac-b4e848a067d0"
      },
      "source": [
        "kalimat = \"Corona cepat selesai\"\n",
        "\n",
        "# gunakan method untuk mengubah nilai kalimat menjadi uppercase semua kemudian tampilkan hasilnya\n",
        "print(kalimat.upper())\n",
        "\n",
        "# gunakan method untuk menghitung berapa huruf e di dalam kalimat\n",
        "print(kalimat.count('e'))"
      ],
      "execution_count": null,
      "outputs": [
        {
          "output_type": "stream",
          "text": [
            "CORONA CEPAT SELESAI\n",
            "3\n"
          ],
          "name": "stdout"
        }
      ]
    },
    {
      "cell_type": "markdown",
      "metadata": {
        "id": "fPTd4R5VYru5",
        "colab_type": "text"
      },
      "source": [
        "Expected Output :\n",
        "\n",
        "CORONA CEPAT SELESAI\n",
        "\n",
        "3"
      ]
    },
    {
      "cell_type": "markdown",
      "metadata": {
        "id": "tH44SxdOYru7",
        "colab_type": "text"
      },
      "source": [
        "<h2>Soal 5 : Menggunkan Method List</h2>\n",
        "\n",
        "Lengkapi kode untuk menghasilkan suatu output yang di harapkan"
      ]
    },
    {
      "cell_type": "code",
      "metadata": {
        "id": "Mds3oCEtYru9",
        "colab_type": "code",
        "colab": {
          "base_uri": "https://localhost:8080/",
          "height": 51
        },
        "outputId": "682bda8c-b765-4746-a5fa-f1cc4dcc3841"
      },
      "source": [
        "areas = [11.25, 18.0, 20.0, 10.75, 9.50]\n",
        "\n",
        "# gunakan suatu method dari object list untuk menampilkan index dari nilai 20\n",
        "print(areas.index(20))\n",
        "\n",
        "# gunakan suatu method dari object list untuk menambahkan nilai 15.5 kedalam list ke index terakhirnya\n",
        "areas.append(15.5)\n",
        "print(areas)"
      ],
      "execution_count": null,
      "outputs": [
        {
          "output_type": "stream",
          "text": [
            "2\n",
            "[11.25, 18.0, 20.0, 10.75, 9.5, 15.5]\n"
          ],
          "name": "stdout"
        }
      ]
    },
    {
      "cell_type": "markdown",
      "metadata": {
        "id": "1ik5BXfhYrvI",
        "colab_type": "text"
      },
      "source": [
        "Expected Output :\n",
        "\n",
        "2\n",
        "\n",
        "[11.25, 18.0, 20.0, 10.75, 9.50, 15.5]"
      ]
    },
    {
      "cell_type": "markdown",
      "metadata": {
        "id": "IPjp5vwDYrvL",
        "colab_type": "text"
      },
      "source": [
        "<h2>Soal 6 : Membuat Simple Function</h2>\n",
        "\n",
        "Buatlah suatu fungsi yang menerima satu input argumen berbentuk list dan mempunyai elemen bertipe numeric semua, dimana fungsi tersebut berguna untuk menghitung rata2 dari kumpulan elemen list tersebut. namai fungsi tersebut 'mean_list'"
      ]
    },
    {
      "cell_type": "code",
      "metadata": {
        "id": "smoKI9zIYrvO",
        "colab_type": "code",
        "colab": {
          "base_uri": "https://localhost:8080/",
          "height": 34
        },
        "outputId": "f182fc2c-b029-47e5-8c15-0aff94a7d9c8"
      },
      "source": [
        "obj_list = [11.25, 18.0, 20.0, 10.75, 9.50]\n",
        "def mean_list(inp_list):\n",
        "    i=0\n",
        "    jum=0\n",
        "    for i in range(len(inp_list)):\n",
        "        jum += inp_list[i]\n",
        "    return(jum/(i+1))\n",
        "\n",
        "    \n",
        "print(mean_list(obj_list))"
      ],
      "execution_count": null,
      "outputs": [
        {
          "output_type": "stream",
          "text": [
            "13.9\n"
          ],
          "name": "stdout"
        }
      ]
    },
    {
      "cell_type": "markdown",
      "metadata": {
        "id": "MVAvoHHgYrva",
        "colab_type": "text"
      },
      "source": [
        "Expected Output :\n",
        "\n",
        "13.9"
      ]
    },
    {
      "cell_type": "markdown",
      "metadata": {
        "id": "A8jjpNC8Yrvc",
        "colab_type": "text"
      },
      "source": [
        "<h2>Soal 7 : Membuat Function dengan Multiple arguments</h2>\n",
        "\n",
        "Buatlah suatu fungsi untuk melakukan penggabungan antara dua list"
      ]
    },
    {
      "cell_type": "code",
      "metadata": {
        "id": "r42z4mafYrve",
        "colab_type": "code",
        "colab": {
          "base_uri": "https://localhost:8080/",
          "height": 34
        },
        "outputId": "8aa81adf-ab2c-467b-adfd-97ca919cd9ed"
      },
      "source": [
        "obj_list = [2, 4, 5, 6]\n",
        "obj_pengali = [1, 2, 3]\n",
        "def kali_list(a, b):\n",
        "    return(a+b)\n",
        "    \n",
        "    \n",
        "print(kali_list(obj_list, obj_pengali))"
      ],
      "execution_count": null,
      "outputs": [
        {
          "output_type": "stream",
          "text": [
            "[2, 4, 5, 6, 1, 2, 3]\n"
          ],
          "name": "stdout"
        }
      ]
    },
    {
      "cell_type": "markdown",
      "metadata": {
        "id": "RYhU921kYrvp",
        "colab_type": "text"
      },
      "source": [
        "Expected Output :\n",
        "\n",
        "[2, 4, 5, 6, 1, 2, 3]"
      ]
    }
  ]
}